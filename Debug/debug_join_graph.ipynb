{
 "cells": [
  {
   "cell_type": "code",
   "execution_count": 1,
   "id": "6025f1cb",
   "metadata": {},
   "outputs": [],
   "source": [
    "import numpy as np\n",
    "import pandas as pd\n",
    "import networkx as nx\n",
    "import copy\n",
    "import pickle\n",
    "import sys\n",
    "import time\n",
    "sys.path.append(\"../\")\n",
    "from BayesCard.Evaluation.utils import parse_query\n",
    "from Schemas.stats.schema import gen_stats_light_schema\n",
    "from Join_scheme.data_prepare import identify_key_values, process_stats_data"
   ]
  },
  {
   "cell_type": "code",
   "execution_count": 2,
   "id": "1d81e2b3",
   "metadata": {},
   "outputs": [
    {
     "name": "stdout",
     "output_type": "stream",
     "text": [
      "{'posts.Id': {'postLinks.RelatedPostId', 'posts.Id', 'tags.ExcerptPostId', 'postLinks.PostId', 'postHistory.PostId', 'votes.PostId', 'comments.PostId'}, 'users.Id': {'postHistory.UserId', 'votes.UserId', 'comments.UserId', 'posts.OwnerUserId', 'badges.UserId', 'users.Id'}}\n"
     ]
    }
   ],
   "source": [
    "data_path = \"/Users/ziniuw/Desktop/research/Learned_QO/data/stats_simplified/{}.csv\"\n",
    "schema = gen_stats_light_schema(data_path)\n",
    "all_keys, equivalent_keys = identify_key_values(schema)\n",
    "print(equivalent_keys)"
   ]
  },
  {
   "cell_type": "code",
   "execution_count": 3,
   "id": "f08e3cbf",
   "metadata": {},
   "outputs": [
    {
     "name": "stdout",
     "output_type": "stream",
     "text": [
      "badges\n",
      "votes\n",
      "postHistory\n",
      "posts\n",
      "users\n",
      "comments\n",
      "postLinks\n",
      "tags\n"
     ]
    }
   ],
   "source": [
    "def read_table_csv(table_obj, csv_seperator=',', stats=True):\n",
    "    \"\"\"\n",
    "    Reads csv from path, renames columns and drops unnecessary columns\n",
    "    \"\"\"\n",
    "    if stats:\n",
    "        df_rows = pd.read_csv(table_obj.csv_file_location)\n",
    "    else:\n",
    "        df_rows = pd.read_csv(table_obj.csv_file_location, header=None, escapechar='\\\\', encoding='utf-8',\n",
    "                              quotechar='\"',\n",
    "                              sep=csv_seperator)\n",
    "    df_rows.columns = [table_obj.table_name + '.' + attr for attr in table_obj.attributes]\n",
    "\n",
    "    for attribute in table_obj.irrelevant_attributes:\n",
    "        df_rows = df_rows.drop(table_obj.table_name + '.' + attribute, axis=1)\n",
    "\n",
    "    return df_rows.apply(pd.to_numeric, errors=\"ignore\")\n",
    "\n",
    "def get_data(data_path):\n",
    "    if not data_path.endswith(\".csv\"):\n",
    "        data_path += \"/{}.csv\"\n",
    "    schema = gen_stats_light_schema(data_path)\n",
    "    data = dict()\n",
    "    for table_obj in schema.tables:\n",
    "        table_name = table_obj.table_name\n",
    "        df_rows = read_table_csv(table_obj, stats=True)\n",
    "        data[table_name] = df_rows\n",
    "        print(table_name)\n",
    "    return data\n",
    "\n",
    "all_data = get_data(data_path)"
   ]
  },
  {
   "cell_type": "code",
   "execution_count": 4,
   "id": "b09b11d7",
   "metadata": {},
   "outputs": [
    {
     "name": "stdout",
     "output_type": "stream",
     "text": [
      "bucketizing equivalent key group: {'postLinks.RelatedPostId', 'posts.Id', 'tags.ExcerptPostId', 'postLinks.PostId', 'postHistory.PostId', 'votes.PostId', 'comments.PostId'}\n",
      "postLinks.RelatedPostId [ 7  4 10 11  6  7  9 11 21  7  9 19 19 10 11 14 13 19 17 22 16 11 15 18\n",
      " 15 18 15 26 15 19 27 37 20 24 24 22 25 57 20 55 39 31 37 93 30 96 59 11]\n",
      "posts.Id [1. 1. 1. 1. 1. 1. 1. 1. 1. 1. 1. 1. 1. 1. 1. 1. 1. 1. 1. 1. 1. 1. 1. 1.\n",
      " 1. 1. 1. 1. 1. 1. 1. 1. 1. 1. 1. 1. 1. 1. 1. 1. 1. 1. 1. 1. 1. 1. 1. 1.]\n",
      "tags.ExcerptPostId [1. 1. 1. 1. 1. 1. 1. 1. 1. 1. 1. 1. 1. 1. 1. 1. 1. 1. 1. 1. 1. 1. 1. 1.\n",
      " 1. 1. 1. 1. 1. 1. 1. 1. 1. 1. 1. 1. 1. 1. 1. 1. 1. 1. 1. 1. 1. 1. 1. 1.]\n",
      "postLinks.PostId [10  7  8  7  9  7  8  5 10  6  5  4  6  4 13  8 10  4  3  7  4  3  8  4\n",
      "  2  4  4  3  4  3  5  4  6  5  5  5  5  3  4  2  1  5  6  3  2  2  4  0]\n",
      "postHistory.PostId [18 17 23 27 22 21 30 20 19 24 19 21 18 21 23 19 17 18 18 29 16 15 18 21\n",
      " 30 14 19 15 14 19 14 15 20 24 13 10  8 15 10 10 11 32 14 11 13 22 16  9]\n",
      "votes.PostId [  1   2   3   4   5   6   7   8   9  10  11  12  13  14  15  16  17  18\n",
      "  19  20  21  22  23  24  25  27  29  31  33  35  37  39  42  45  49  54\n",
      "  59  63  70  77  88 100 113 130 153 193 375 427]\n",
      "comments.PostId [32 31 33 27 33 22 41 41 24 28 45 20 37 19 33 15 35 18 16 24 16 19 13 17\n",
      " 20 17 14 37 14 18 17 14 12 20 30 14 17 11 30 12 12 22 17 24 11 35 10  3]\n",
      "bucketizing equivalent key group: {'postHistory.UserId', 'votes.UserId', 'comments.UserId', 'posts.OwnerUserId', 'badges.UserId', 'users.Id'}\n",
      "postHistory.UserId [   1    3    4    5    6    7    8    9   10   11   12   13   14   15\n",
      "   16   17   18   19   20   21   22   23   24   25   26   27   28   29\n",
      "   31   33   35   37   39   41   44   46   48   51   53   56   59   62\n",
      "   65   68   71   74   77   79   83   86   90   93   98  104  108  115\n",
      "  120  123  131  137  145  154  163  175  184  193  205  215  234  249\n",
      "  267  277  290  302  337  359  396  439  472  474  485  527  540  579\n",
      "  679  720  741  787  878  903 1120 1134 1169 1265 1428 1562 1665 1714\n",
      " 2175 2739 3034 3107 6005 6570 6900 7097 7321]\n",
      "votes.UserId [ 98 150  47  32 374  36  86  35  64  65  69  92  99 110  45  34 100  39\n",
      "  21  33  82  30  25  26  73  28  97  38 141 220  65  60  33  30  68  30\n",
      "  67  44 124  29  62  19  33 149  68 286 108  55  90  95  99  74  30 149\n",
      " 404  65 120 173  20  46  68  56 161 107 712 211 105  79  68 102 319  78\n",
      " 115 107  14  10  99  68 459  45  75 118  88  49 125  59  26  31   3  12\n",
      " 276  79  77  23 183  28  75  66  20   8   0  81 457  97 509  93 320]\n",
      "comments.UserId [   18    19    17    12    20    20    35    25    27    30    31    22\n",
      "    24    36    32    50    35    69    36    33    58    58    33    42\n",
      "    70    52    43    79    48    64   178    85    69    58    47   196\n",
      "    91   100    63    80   127   104   112   164    99   169   110   129\n",
      "   101   140   174   247   216   142   160   294   212   284   515   168\n",
      "   163   324   274   362   182   302   232   346   179   371   327   279\n",
      "   436   376   427   789   827   431  1118   617   543   797  1189   966\n",
      "   620   974   749   630   878   681   440   525  3069  1989  1223  1669\n",
      "  2840  1312   625  3108  2286   552  2424  1033  8818 13220  3870]\n",
      "posts.OwnerUserId [   2    3    4    5    6    7    8    9   10   11   12   13   12   15\n",
      "   16   16   13   16   20   19   21   21   21   22   22   20   26   24\n",
      "   23   33   34   32   31   38   39   42   43   35   51   46   45   52\n",
      "   43   58   48   54   56   68   72   49   59   58   59   78   71   74\n",
      "  105   87  101   77   76  114  105  104  105  127  158  168  153  115\n",
      "  179  172  157  160  190  277  254  167  321  388  367  291  450  340\n",
      "  320  661  397  425  417  380  227  292  155  286  290  266  966  363\n",
      "  269 1598  345  493  458  339 1720 1204  827]\n",
      "badges.UserId [  8  15  16  19  18  13  14  23  21  18  16  12  19  18  19  17  22  21\n",
      "  18  18  21  22  19  19  17  19  22  32  32  31  24  25  25  23  23  29\n",
      "  26  42  39  38  30  24  36  26  35  44  43  48  22  34  44  52  32  54\n",
      "  49  47  41  39  27  51  61  49  43  44  37  80  53  41  72  62  49 131\n",
      "  64  92  72  66  62  87 159  72 107  57 104 116 156  97  88  38  88  63\n",
      "  66  61 139  88  66 176  74 112  65 152  60 222 282 119 318 456 256]\n",
      "users.Id [1. 1. 1. 1. 1. 1. 1. 1. 1. 1. 1. 1. 1. 1. 1. 1. 1. 1. 1. 1. 1. 1. 1. 1.\n",
      " 1. 1. 1. 1. 1. 1. 1. 1. 1. 1. 1. 1. 1. 1. 1. 1. 1. 1. 1. 1. 1. 1. 1. 1.\n",
      " 1. 1. 1. 1. 1. 1. 1. 1. 1. 1. 1. 1. 1. 1. 1. 1. 1. 1. 1. 1. 1. 1. 1. 1.\n",
      " 1. 1. 1. 1. 1. 1. 1. 1. 1. 1. 1. 1. 1. 1. 1. 1. 1. 1. 1. 1. 1. 1. 1. 1.\n",
      " 1. 1. 1. 1. 1. 1. 1. 1. 1. 1. 1.]\n",
      "badges\n",
      "Discretizing table takes 0.018136024475097656 secs\n",
      "Structure learning took 0.28286075592041016 secs.\n",
      "done, parameter learning took 0.0646672248840332 secs.\n",
      "votes\n",
      "Discretizing table takes 1.601011037826538 secs\n",
      "Structure learning took 1.7085192203521729 secs.\n",
      "done, parameter learning took 0.08755207061767578 secs.\n",
      "postHistory\n",
      "Discretizing table takes 0.09668087959289551 secs\n",
      "Structure learning took 2.3059020042419434 secs.\n",
      "done, parameter learning took 0.17732906341552734 secs.\n",
      "posts\n",
      "Discretizing table takes 0.3098921775817871 secs\n",
      "Structure learning took 2.139219045639038 secs.\n",
      "done, parameter learning took 0.20153093338012695 secs.\n",
      "users\n",
      "Discretizing table takes 1.2974750995635986 secs\n",
      "Structure learning took 0.5350852012634277 secs.\n",
      "done, parameter learning took 0.06525802612304688 secs.\n",
      "comments\n",
      "Discretizing table takes 0.06543111801147461 secs\n",
      "Structure learning took 1.2563958168029785 secs.\n",
      "done, parameter learning took 0.1451268196105957 secs.\n",
      "postLinks\n",
      "Discretizing table takes 0.010416984558105469 secs\n",
      "Structure learning took 0.14333701133728027 secs.\n",
      "done, parameter learning took 0.08933806419372559 secs.\n",
      "tags\n",
      "Discretizing table takes 0.005992889404296875 secs\n",
      "Structure learning took 0.005090236663818359 secs.\n",
      "done, parameter learning took 0.011106014251708984 secs.\n",
      "models save at /Users/ziniuw/Desktop/research/Learned_QO/data/saved_models/model_stats_sub_optimal_200.pkl\n"
     ]
    }
   ],
   "source": [
    "from Evaluation.training import train_one_stats, test_trained_BN_on_stats\n",
    "data_path = \"/Users/ziniuw/Desktop/research/Learned_QO/data/stats_simplified/{}.csv\"\n",
    "model_path = \"/Users/ziniuw/Desktop/research/Learned_QO/data/saved_models/\"\n",
    "train_one_stats(\"stats\", data_path, model_path, 2, 200, \"sub_optimal\", True, actual_data = None)"
   ]
  },
  {
   "cell_type": "code",
   "execution_count": 5,
   "id": "5189ab90",
   "metadata": {},
   "outputs": [
    {
     "name": "stdout",
     "output_type": "stream",
     "text": [
      "bucketizing equivalent key group: {'postLinks.RelatedPostId', 'posts.Id', 'tags.ExcerptPostId', 'postLinks.PostId', 'postHistory.PostId', 'votes.PostId', 'comments.PostId'}\n",
      "postLinks.RelatedPostId [ 7  4 10 11  6  7  9 11 21  7  9 19 19 10 11 14 13 19 17 22 16 11 15 18\n",
      " 15 18 15 26 15 19 27 37 20 24 24 22 25 57 20 55 39 31 37 93 30 96 59 11]\n",
      "posts.Id [1. 1. 1. 1. 1. 1. 1. 1. 1. 1. 1. 1. 1. 1. 1. 1. 1. 1. 1. 1. 1. 1. 1. 1.\n",
      " 1. 1. 1. 1. 1. 1. 1. 1. 1. 1. 1. 1. 1. 1. 1. 1. 1. 1. 1. 1. 1. 1. 1. 1.]\n",
      "tags.ExcerptPostId [1. 1. 1. 1. 1. 1. 1. 1. 1. 1. 1. 1. 1. 1. 1. 1. 1. 1. 1. 1. 1. 1. 1. 1.\n",
      " 1. 1. 1. 1. 1. 1. 1. 1. 1. 1. 1. 1. 1. 1. 1. 1. 1. 1. 1. 1. 1. 1. 1. 1.]\n",
      "postLinks.PostId [10  7  8  7  9  7  8  5 10  6  5  4  6  4 13  8 10  4  3  7  4  3  8  4\n",
      "  2  4  4  3  4  3  5  4  6  5  5  5  5  3  4  2  1  5  6  3  2  2  4  0]\n",
      "postHistory.PostId [18 17 23 27 22 21 30 20 19 24 19 21 18 21 23 19 17 18 18 29 16 15 18 21\n",
      " 30 14 19 15 14 19 14 15 20 24 13 10  8 15 10 10 11 32 14 11 13 22 16  9]\n",
      "votes.PostId [  1   2   3   4   5   6   7   8   9  10  11  12  13  14  15  16  17  18\n",
      "  19  20  21  22  23  24  25  27  29  31  33  35  37  39  42  45  49  54\n",
      "  59  63  70  77  88 100 113 130 153 193 375 427]\n",
      "comments.PostId [32 31 33 27 33 22 41 41 24 28 45 20 37 19 33 15 35 18 16 24 16 19 13 17\n",
      " 20 17 14 37 14 18 17 14 12 20 30 14 17 11 30 12 12 22 17 24 11 35 10  3]\n",
      "bucketizing equivalent key group: {'postHistory.UserId', 'votes.UserId', 'comments.UserId', 'posts.OwnerUserId', 'badges.UserId', 'users.Id'}\n",
      "postHistory.UserId [   1    3    4    5    6    7    8    9   10   11   12   13   14   15\n",
      "   16   17   18   19   20   21   22   23   24   25   26   27   28   29\n",
      "   31   33   35   37   39   41   44   46   48   51   53   56   59   62\n",
      "   65   68   71   74   77   79   83   86   90   93   98  104  108  115\n",
      "  120  123  131  137  145  154  163  175  184  193  205  215  234  249\n",
      "  267  277  290  302  337  359  396  439  472  474  485  527  540  579\n",
      "  679  720  741  787  878  903 1120 1134 1169 1265 1428 1562 1665 1714\n",
      " 2175 2739 3034 3107 6005 6570 6900 7097 7321]\n",
      "votes.UserId [ 98 150  47  32 374  36  86  35  64  65  69  92  99 110  45  34 100  39\n",
      "  21  33  82  30  25  26  73  28  97  38 141 220  65  60  33  30  68  30\n",
      "  67  44 124  29  62  19  33 149  68 286 108  55  90  95  99  74  30 149\n",
      " 404  65 120 173  20  46  68  56 161 107 712 211 105  79  68 102 319  78\n",
      " 115 107  14  10  99  68 459  45  75 118  88  49 125  59  26  31   3  12\n",
      " 276  79  77  23 183  28  75  66  20   8   0  81 457  97 509  93 320]\n",
      "comments.UserId [   18    19    17    12    20    20    35    25    27    30    31    22\n",
      "    24    36    32    50    35    69    36    33    58    58    33    42\n",
      "    70    52    43    79    48    64   178    85    69    58    47   196\n",
      "    91   100    63    80   127   104   112   164    99   169   110   129\n",
      "   101   140   174   247   216   142   160   294   212   284   515   168\n",
      "   163   324   274   362   182   302   232   346   179   371   327   279\n",
      "   436   376   427   789   827   431  1118   617   543   797  1189   966\n",
      "   620   974   749   630   878   681   440   525  3069  1989  1223  1669\n",
      "  2840  1312   625  3108  2286   552  2424  1033  8818 13220  3870]\n",
      "posts.OwnerUserId [   2    3    4    5    6    7    8    9   10   11   12   13   12   15\n",
      "   16   16   13   16   20   19   21   21   21   22   22   20   26   24\n",
      "   23   33   34   32   31   38   39   42   43   35   51   46   45   52\n",
      "   43   58   48   54   56   68   72   49   59   58   59   78   71   74\n",
      "  105   87  101   77   76  114  105  104  105  127  158  168  153  115\n",
      "  179  172  157  160  190  277  254  167  321  388  367  291  450  340\n",
      "  320  661  397  425  417  380  227  292  155  286  290  266  966  363\n",
      "  269 1598  345  493  458  339 1720 1204  827]\n",
      "badges.UserId [  8  15  16  19  18  13  14  23  21  18  16  12  19  18  19  17  22  21\n",
      "  18  18  21  22  19  19  17  19  22  32  32  31  24  25  25  23  23  29\n",
      "  26  42  39  38  30  24  36  26  35  44  43  48  22  34  44  52  32  54\n",
      "  49  47  41  39  27  51  61  49  43  44  37  80  53  41  72  62  49 131\n",
      "  64  92  72  66  62  87 159  72 107  57 104 116 156  97  88  38  88  63\n",
      "  66  61 139  88  66 176  74 112  65 152  60 222 282 119 318 456 256]\n",
      "users.Id [1. 1. 1. 1. 1. 1. 1. 1. 1. 1. 1. 1. 1. 1. 1. 1. 1. 1. 1. 1. 1. 1. 1. 1.\n",
      " 1. 1. 1. 1. 1. 1. 1. 1. 1. 1. 1. 1. 1. 1. 1. 1. 1. 1. 1. 1. 1. 1. 1. 1.\n",
      " 1. 1. 1. 1. 1. 1. 1. 1. 1. 1. 1. 1. 1. 1. 1. 1. 1. 1. 1. 1. 1. 1. 1. 1.\n",
      " 1. 1. 1. 1. 1. 1. 1. 1. 1. 1. 1. 1. 1. 1. 1. 1. 1. 1. 1. 1. 1. 1. 1. 1.\n",
      " 1. 1. 1. 1. 1. 1. 1. 1. 1. 1. 1.]\n",
      "badges\n",
      "Discretizing table takes 0.012498855590820312 secs\n",
      "Structure learning took 0.25606799125671387 secs.\n",
      "done, parameter learning took 0.09010696411132812 secs.\n",
      "votes\n",
      "Discretizing table takes 1.6202890872955322 secs\n",
      "Structure learning took 1.6967432498931885 secs.\n",
      "done, parameter learning took 0.08345913887023926 secs.\n",
      "postHistory\n",
      "Discretizing table takes 0.08780121803283691 secs\n",
      "Structure learning took 2.2964489459991455 secs.\n",
      "done, parameter learning took 0.1689600944519043 secs.\n",
      "posts\n",
      "Discretizing table takes 0.31147193908691406 secs\n",
      "Structure learning took 2.145672082901001 secs.\n",
      "done, parameter learning took 0.2147972583770752 secs.\n",
      "users\n",
      "Discretizing table takes 1.3364291191101074 secs\n",
      "Structure learning took 0.5745837688446045 secs.\n",
      "done, parameter learning took 0.06714010238647461 secs.\n",
      "comments\n",
      "Discretizing table takes 0.06660795211791992 secs\n",
      "Structure learning took 1.2673697471618652 secs.\n",
      "done, parameter learning took 0.15492701530456543 secs.\n",
      "postLinks\n",
      "Discretizing table takes 0.010512113571166992 secs\n",
      "Structure learning took 0.14542889595031738 secs.\n",
      "done, parameter learning took 0.06577110290527344 secs.\n",
      "tags\n",
      "Discretizing table takes 0.006931781768798828 secs\n",
      "Structure learning took 0.005205869674682617 secs.\n",
      "done, parameter learning took 0.011832952499389648 secs.\n",
      "models save at /Users/ziniuw/Desktop/research/Learned_QO/data/saved_models/update/model_stats_sub_optimal_200.pkl\n"
     ]
    }
   ],
   "source": [
    "train_one_stats(\"stats\", \"\", model_path+\"update/\", 2, 200, \"sub_optimal\", True, actual_data = all_data)"
   ]
  },
  {
   "cell_type": "code",
   "execution_count": null,
   "id": "5e84f7dc",
   "metadata": {},
   "outputs": [],
   "source": [
    "model_path = \"/Users/ziniuw/Desktop/research/Learned_QO/data/saved_models/update/model_stats_sub_optimal_200.pkl\"\n",
    "with open(model_path, \"rb\") as f:\n",
    "    BE2 = pickle.load(f)"
   ]
  },
  {
   "cell_type": "code",
   "execution_count": null,
   "id": "4de13cca",
   "metadata": {},
   "outputs": [],
   "source": [
    "query57 = \"SELECT COUNT(*) FROM posts as p, postLinks as pl, postHistory as ph, votes as v, badges as b, users as u WHERE p.Id = pl.RelatedPostId AND u.Id = p.OwnerUserId AND u.Id = b.UserId AND u.Id = ph.UserId AND u.Id = v.UserId AND p.CommentCount>=0 AND p.CommentCount<=13 AND ph.PostHistoryTypeId=5 AND ph.CreationDate<='2014-08-13 09:20:10'::timestamp AND v.CreationDate>='2010-07-19 00:00:00'::timestamp AND b.Date<='2014-09-09 10:24:35'::timestamp AND u.Views>=0 AND u.DownVotes>=0 AND u.CreationDate>='2010-08-04 16:59:53'::timestamp AND u.CreationDate<='2014-07-22 15:15:22'::timestamp;\"\n",
    "t = time.time()\n",
    "res = BE2.get_cardinality_bound_one(query57)\n",
    "print(time.time() - t)\n",
    "print(res)"
   ]
  },
  {
   "cell_type": "code",
   "execution_count": null,
   "id": "d1aa0b20",
   "metadata": {},
   "outputs": [],
   "source": [
    "for table in BE.bns:\n",
    "    print(BE.bns[table].nrows)\n",
    "    test_trained_BN_on_stats(BE.bns[table], table)"
   ]
  },
  {
   "cell_type": "code",
   "execution_count": null,
   "id": "2874c65b",
   "metadata": {},
   "outputs": [],
   "source": [
    "model_path = \"/Users/ziniuw/Desktop/research/Learned_QO/data/saved_models/update/model_stats_sub_optimal_200.pkl\"\n",
    "with open(model_path, \"rb\") as f:\n",
    "    BE = pickle.load(f)"
   ]
  },
  {
   "cell_type": "code",
   "execution_count": null,
   "id": "37ff26f9",
   "metadata": {},
   "outputs": [],
   "source": [
    "query_file = \"/Users/ziniuw/Desktop/research/Learned_QO/data/stats_simplified/stats_CEB_sub_queries.sql\"\n",
    "with open(query_file, \"r\") as f:\n",
    "    queries = f.readlines()\n"
   ]
  },
  {
   "cell_type": "code",
   "execution_count": null,
   "id": "ef76e71c",
   "metadata": {},
   "outputs": [],
   "source": [
    "qerror = []\n",
    "latency = []\n",
    "pred = []\n",
    "for i, query_str in enumerate(queries):\n",
    "    query = query_str.split(\"||\")[0][:-1]\n",
    "    print(\"========================\")\n",
    "    true_card = int(query_str.split(\"||\")[-1])\n",
    "    t = time.time()\n",
    "    res = BE.get_cardinality_bound_one(query)\n",
    "    pred.append(res)\n",
    "    latency.append(time.time() - t)\n",
    "    qerror.append(res/true_card)\n",
    "    print(f\"estimating query {i}: predicted {res}, true_card {true_card}, qerror {res/true_card}, latency {time.time() - t}\")"
   ]
  },
  {
   "cell_type": "code",
   "execution_count": null,
   "id": "e595aff2",
   "metadata": {},
   "outputs": [],
   "source": [
    "qerror = np.asarray(qerror)"
   ]
  },
  {
   "cell_type": "code",
   "execution_count": null,
   "id": "59e6d0a0",
   "metadata": {},
   "outputs": [],
   "source": [
    "temp_qerror = copy.deepcopy(qerror)\n",
    "temp_qerror[temp_qerror < 1] = 1/temp_qerror[temp_qerror < 1]"
   ]
  },
  {
   "cell_type": "code",
   "execution_count": null,
   "id": "c1e6e386",
   "metadata": {},
   "outputs": [],
   "source": [
    "for i in [50, 90, 95, 99, 100]:\n",
    "    print(f\"q-error {i}% percentile is {np.percentile(temp_qerror, i)}\")\n",
    "print(f\"total inference time: {np.sum(latency)}\")"
   ]
  },
  {
   "cell_type": "code",
   "execution_count": null,
   "id": "73add80b",
   "metadata": {},
   "outputs": [],
   "source": [
    "for i in [50, 90, 95, 99, 100]:\n",
    "    print(f\"q-error {i}% percentile is {np.percentile(temp_qerror, i)}\")\n",
    "print(f\"total inference time: {np.sum(latency)}\")"
   ]
  },
  {
   "cell_type": "code",
   "execution_count": null,
   "id": "8f81d047",
   "metadata": {},
   "outputs": [],
   "source": [
    "with open(\"stats_CEB_CE_scheme_200_greedy.txt\", \"w\") as f:\n",
    "    for p in pred:\n",
    "        f.write(str(p)+\"\\n\")"
   ]
  },
  {
   "cell_type": "code",
   "execution_count": null,
   "id": "301c046f",
   "metadata": {},
   "outputs": [],
   "source": [
    "with open(\"stats_CEB_exec.sql\", \"r\") as f:\n",
    "    queries = f.readlines()"
   ]
  },
  {
   "cell_type": "code",
   "execution_count": null,
   "id": "28e23ee2",
   "metadata": {},
   "outputs": [],
   "source": [
    "with open(\"stats_CEB_exec.sql\", \"w\") as f:\n",
    "    for q in queries:\n",
    "        q = q.split(\"||\")[-1]\n",
    "        f.write(q)"
   ]
  },
  {
   "cell_type": "code",
   "execution_count": null,
   "id": "e38019fe",
   "metadata": {},
   "outputs": [],
   "source": []
  }
 ],
 "metadata": {
  "kernelspec": {
   "display_name": "Python 3",
   "language": "python",
   "name": "python3"
  },
  "language_info": {
   "codemirror_mode": {
    "name": "ipython",
    "version": 3
   },
   "file_extension": ".py",
   "mimetype": "text/x-python",
   "name": "python",
   "nbconvert_exporter": "python",
   "pygments_lexer": "ipython3",
   "version": "3.7.11"
  }
 },
 "nbformat": 4,
 "nbformat_minor": 5
}
