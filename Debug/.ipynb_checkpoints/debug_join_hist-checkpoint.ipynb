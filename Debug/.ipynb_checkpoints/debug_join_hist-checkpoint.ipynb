{
 "cells": [
  {
   "cell_type": "code",
   "execution_count": 1,
   "id": "53641ab9",
   "metadata": {},
   "outputs": [],
   "source": [
    "import pickle\n",
    "import sys\n",
    "sys.path.append(\"../\")\n",
    "from Join_scheme.data_prepare import process_stats_data\n",
    "from BayesCard.Models.Bayescard_BN import Bayescard_BN\n",
    "import time\n",
    "import pandas as pd\n",
    "import numpy as np\n",
    "from BayesCard.Evaluation.cardinality_estimation import parse_query_single_table"
   ]
  },
  {
   "cell_type": "code",
   "execution_count": 2,
   "id": "56b523b0",
   "metadata": {},
   "outputs": [
    {
     "name": "stdout",
     "output_type": "stream",
     "text": [
      "bucketizing equivalent key group: {'comments.PostId', 'postLinks.PostId', 'tags.ExcerptPostId', 'postLinks.RelatedPostId', 'posts.Id', 'votes.PostId', 'postHistory.PostId'}\n",
      "bucketizing equivalent key group: {'votes.UserId', 'comments.UserId', 'users.Id', 'postHistory.UserId', 'posts.OwnerUserId', 'badges.UserId'}\n"
     ]
    }
   ],
   "source": [
    "from Join_scheme.data_prepare import process_stats_data\n",
    "data_path = \"/home/ubuntu/End-to-End-CardEst-Benchmark/datasets/stats_simplified/{}.csv\"\n",
    "model_folder = \"/home/ubuntu/data_CE/saved_models\"\n",
    "data, null_values, key_attrs, table_buckets, equivalent_keys, schema, bin_size, all_bin_means, all_bin_width = process_stats_data(data_path,\n",
    "                                                model_folder, 200, \"sub_optimal\", return_bin_means=True)"
   ]
  },
  {
   "cell_type": "code",
   "execution_count": 10,
   "id": "e305a1ef",
   "metadata": {},
   "outputs": [],
   "source": [
    "all_bin_means['tags.ExcerptPostId'] = np.ones(48)\n",
    "all_bin_width['tags.ExcerptPostId'] = np.ones(48) * len(data[\"tags\"][\"tags.ExcerptPostId\"])/48\n",
    "all_bin_means['posts.Id'] = np.ones(48)\n",
    "all_bin_width['posts.Id'] = np.ones(48) * len(data[\"posts\"][\"posts.Id\"])/48\n",
    "all_bin_means['users.Id'] = np.ones(107)\n",
    "all_bin_width['users.Id'] = np.ones(107) * len(data[\"users\"][\"users.Id\"])/107\n"
   ]
  },
  {
   "cell_type": "code",
   "execution_count": 9,
   "id": "f340ce36",
   "metadata": {},
   "outputs": [
    {
     "data": {
      "text/plain": [
       "{'comments': {'comments.PostId': 48, 'comments.UserId': 107},\n",
       " 'postLinks': {'postLinks.PostId': 48, 'postLinks.RelatedPostId': 48},\n",
       " 'tags': {'tags.ExcerptPostId': 48},\n",
       " 'posts': {'posts.Id': 48, 'posts.OwnerUserId': 107},\n",
       " 'votes': {'votes.PostId': 48, 'votes.UserId': 107},\n",
       " 'postHistory': {'postHistory.PostId': 48, 'postHistory.UserId': 107},\n",
       " 'users': {'users.Id': 107},\n",
       " 'badges': {'badges.UserId': 107}}"
      ]
     },
     "execution_count": 9,
     "metadata": {},
     "output_type": "execute_result"
    }
   ],
   "source": [
    "bin_size"
   ]
  },
  {
   "cell_type": "code",
   "execution_count": 8,
   "id": "ccfeb034",
   "metadata": {},
   "outputs": [
    {
     "data": {
      "text/plain": [
       "48"
      ]
     },
     "execution_count": 8,
     "metadata": {},
     "output_type": "execute_result"
    }
   ],
   "source": [
    "len(all_bin_means[\"votes.PostId\"])"
   ]
  },
  {
   "cell_type": "code",
   "execution_count": null,
   "id": "824a72ad",
   "metadata": {},
   "outputs": [],
   "source": [
    "from BayesCard.Models.tools import discretize_series"
   ]
  },
  {
   "cell_type": "code",
   "execution_count": null,
   "id": "a81dbba6",
   "metadata": {},
   "outputs": [],
   "source": [
    "temp, n_distinct, encoding, _, domains, _ = discretize_series(data['badges']['badges.Date'], 1, 100)"
   ]
  },
  {
   "cell_type": "code",
   "execution_count": null,
   "id": "72d53423",
   "metadata": {},
   "outputs": [],
   "source": [
    "hist, curr_bins = np.histogram(data['posts']['posts.Score'], bins=50)"
   ]
  },
  {
   "cell_type": "code",
   "execution_count": null,
   "id": "e8328143",
   "metadata": {},
   "outputs": [],
   "source": [
    "len(hist), len(curr_bins)"
   ]
  },
  {
   "cell_type": "code",
   "execution_count": 41,
   "id": "18a02313",
   "metadata": {},
   "outputs": [],
   "source": [
    "def learn_histogram(data, key_attrs, all_bin_means, all_bin_width, all_bin_size, bin_size=50):\n",
    "    all_histogram = dict()\n",
    "    all_boundary = dict()\n",
    "    for table in data:\n",
    "        all_histogram[table] = dict()\n",
    "        all_boundary[table] = dict()\n",
    "        for attr in data[table]:\n",
    "            if attr in key_attrs[table]:\n",
    "                assert all_bin_size[table][attr] == len(all_bin_means[attr]) == len(all_bin_width[attr])\n",
    "            else:\n",
    "                hist, curr_bins = np.histogram(data[table][attr].values, bins=bin_size)\n",
    "                all_histogram[table][attr] = hist/np.sum(hist)\n",
    "                all_boundary[table][attr] = curr_bins\n",
    "    return all_histogram, all_boundary"
   ]
  },
  {
   "cell_type": "code",
   "execution_count": 42,
   "id": "162e1612",
   "metadata": {},
   "outputs": [],
   "source": [
    "all_histogram, all_boundary = learn_histogram(data, key_attrs, all_bin_means, all_bin_width, bin_size, bin_size=50)"
   ]
  },
  {
   "cell_type": "code",
   "execution_count": 43,
   "id": "4212acfb",
   "metadata": {},
   "outputs": [
    {
     "ename": "IndentationError",
     "evalue": "expected an indented block (<ipython-input-43-cebd19c01d3d>, line 88)",
     "output_type": "error",
     "traceback": [
      "\u001b[0;36m  File \u001b[0;32m\"<ipython-input-43-cebd19c01d3d>\"\u001b[0;36m, line \u001b[0;32m88\u001b[0m\n\u001b[0;31m    def get_cardinality(self, query_str):\u001b[0m\n\u001b[0m      ^\u001b[0m\n\u001b[0;31mIndentationError\u001b[0m\u001b[0;31m:\u001b[0m expected an indented block\n"
     ]
    }
   ],
   "source": [
    "import numpy as np\n",
    "import copy\n",
    "\n",
    "from Join_scheme.join_graph import process_condition, get_join_hyper_graph\n",
    "from Join_scheme.data_prepare import identify_key_values\n",
    "from BayesCard.Evaluation.cardinality_estimation import timestamp_transorform, construct_table_query\n",
    "\n",
    "OPS = {\n",
    "    '>': np.greater,\n",
    "    '<': np.less,\n",
    "    '>=': np.greater_equal,\n",
    "    '<=': np.less_equal,\n",
    "    '=': np.equal,\n",
    "    '==': np.equal\n",
    "}\n",
    "\n",
    "class Bound_ensemble:\n",
    "    \"\"\"\n",
    "    This the class where we store all the trained models and perform inference on the bound.\n",
    "    \"\"\"\n",
    "    def __init__(self, hist, boundary, all_bin_means, all_key_size, schema):\n",
    "        self.hist = hist\n",
    "        self.boundary = boundary\n",
    "        self.schema = schema\n",
    "        self.all_bin_means = all_bin_means\n",
    "        self.all_key_size = all_key_size\n",
    "        self.all_keys, self.equivalent_keys = identify_key_values(schema)\n",
    "\n",
    "    def parse_query_simple(self, query):\n",
    "        \"\"\"\n",
    "        If your selection query contains no aggregation and nested sub-queries, you can use this function to parse a\n",
    "        join query. Otherwise, use parse_query function.\n",
    "        \"\"\"\n",
    "        query = query.replace(\" where \", \" WHERE \")\n",
    "        query = query.replace(\" from \", \" FROM \")\n",
    "        query = query.replace(\" and \", \" AND \")\n",
    "        query = query.split(\";\")[0]\n",
    "        query = query.strip()\n",
    "        tables_all = {}\n",
    "        join_cond = []\n",
    "        table_probs = {}\n",
    "        join_keys = {}\n",
    "        tables_str = query.split(\" WHERE \")[0].split(\" FROM \")[-1]\n",
    "        for table_str in tables_str.split(\",\"):\n",
    "            table_str = table_str.strip()\n",
    "            if \" as \" in table_str:\n",
    "                tables_all[table_str.split(\" as \")[-1]] = table_str.split(\" as \")[0]\n",
    "            else:\n",
    "                tables_all[table_str.split(\" \")[-1]] = table_str.split(\" \")[0]\n",
    "\n",
    "        # processing conditions\n",
    "        conditions = query.split(\" WHERE \")[-1].split(\" AND \")\n",
    "        for cond in conditions:\n",
    "            table, cond, join, join_key = process_condition(cond, tables_all)\n",
    "            if table not in table_probs:\n",
    "                table_probs[table] = 1\n",
    "            if not join:\n",
    "                attr = cond[0]\n",
    "                op = cond[1]\n",
    "                value = cond[2]\n",
    "                if \"Date\" in attr:\n",
    "                    assert \"::timestamp\" in value\n",
    "                    value = timestamp_transorform(value.strip().split(\"::timestamp\")[0])\n",
    "                curr_prob = 0\n",
    "                for i in range(0, len(self.boundary[table][attr])-1):\n",
    "                    if OPS[op](self.boundary[table][attr][i], value):\n",
    "                        curr_prob += self.hist[table][attr][i]\n",
    "                table_probs[table] *= curr_prob\n",
    "                #construct_table_query(self.bns[table], table_query[table], attr, op, value)\n",
    "            else:\n",
    "                join_cond.append(cond)\n",
    "                for tab in join_key:\n",
    "                    if tab in join_keys:\n",
    "                        join_keys[tab].add(join_key[tab])\n",
    "                    else:\n",
    "                        join_keys[tab] = set([join_key[tab]])\n",
    "        final_probs = 1\n",
    "        for table in table_probs:\n",
    "            final_probs *= table_probs[table]\n",
    "        print(final_probs)\n",
    "        return tables_all, final_probs, join_cond, join_keys\n",
    "    \n",
    "    def multiply_hist_oned(self, all_probs, all_modes):\n",
    "        all_probs = np.stack(all_probs, axis=0)\n",
    "        all_modes = np.stack(all_modes, axis=0)\n",
    "        multiplier = np.prod(all_modes, axis=0)\n",
    "        non_zero_idx = np.where(multiplier != 0)[0]\n",
    "        min_number = np.amin(all_probs[:, non_zero_idx]/all_modes[:, non_zero_idx], axis=0)\n",
    "        multiplier[non_zero_idx] = multiplier[non_zero_idx] * min_number\n",
    "        return np.sum(multiplier)\n",
    "\n",
    "    def eliminate_one_key_group(self, key_group, relevant_keys, res):\n",
    "        curr_hist = []\n",
    "        for key in relevant_keys:\n",
    "            hist = self.all_bin_means[key] * self.all_key_size[key]\n",
    "            if res:\n",
    "                prob = hist/np.sum(hist) * res\n",
    "            \n",
    "            \n",
    "        \n",
    "\n",
    "    def get_cardinality(self, query_str):\n",
    "        tables_all, table_probs, join_cond, join_keys = self.parse_query_simple(query_str)\n",
    "        equivalent_group = get_join_hyper_graph(join_keys, self.equivalent_keys)\n",
    "        print(equivalent_group)\n",
    "        res = None\n",
    "        for key_group in equivalent_group:\n",
    "            res = self.eliminate_one_key_group(key_group, equivalent_group[key_group], res)\n",
    "        return res * table_probs"
   ]
  },
  {
   "cell_type": "code",
   "execution_count": 39,
   "id": "323f76ae",
   "metadata": {},
   "outputs": [],
   "source": [
    "BE = Bound_ensemble(all_histogram, all_boundary, all_bin_means, all_key_size, schema)"
   ]
  },
  {
   "cell_type": "code",
   "execution_count": 20,
   "id": "915f8b2c",
   "metadata": {},
   "outputs": [],
   "source": [
    "query_file = \"/home/ubuntu/End-to-End-CardEst-Benchmark/workloads/stats_CEB/sub_plan_queries/stats_CEB_sub_queries.sql\"\n",
    "with open(query_file, \"r\") as f:\n",
    "    queries = f.readlines()"
   ]
  },
  {
   "cell_type": "code",
   "execution_count": 40,
   "id": "cf5394b3",
   "metadata": {},
   "outputs": [
    {
     "name": "stdout",
     "output_type": "stream",
     "text": [
      "========================\n",
      "0.9999999999999997\n",
      "{'users.Id': ['badges.UserId', 'users.Id']}\n"
     ]
    },
    {
     "ename": "NameError",
     "evalue": "name 'optimal_order' is not defined",
     "output_type": "error",
     "traceback": [
      "\u001b[0;31m---------------------------------------------------------------------------\u001b[0m",
      "\u001b[0;31mNameError\u001b[0m                                 Traceback (most recent call last)",
      "\u001b[0;32m<ipython-input-40-dd3cfda4b133>\u001b[0m in \u001b[0;36m<module>\u001b[0;34m\u001b[0m\n\u001b[1;32m      7\u001b[0m     \u001b[0mtrue_card\u001b[0m \u001b[0;34m=\u001b[0m \u001b[0mint\u001b[0m\u001b[0;34m(\u001b[0m\u001b[0mquery_str\u001b[0m\u001b[0;34m.\u001b[0m\u001b[0msplit\u001b[0m\u001b[0;34m(\u001b[0m\u001b[0;34m\"||\"\u001b[0m\u001b[0;34m)\u001b[0m\u001b[0;34m[\u001b[0m\u001b[0;34m-\u001b[0m\u001b[0;36m1\u001b[0m\u001b[0;34m]\u001b[0m\u001b[0;34m)\u001b[0m\u001b[0;34m\u001b[0m\u001b[0;34m\u001b[0m\u001b[0m\n\u001b[1;32m      8\u001b[0m     \u001b[0mt\u001b[0m \u001b[0;34m=\u001b[0m \u001b[0mtime\u001b[0m\u001b[0;34m.\u001b[0m\u001b[0mtime\u001b[0m\u001b[0;34m(\u001b[0m\u001b[0;34m)\u001b[0m\u001b[0;34m\u001b[0m\u001b[0;34m\u001b[0m\u001b[0m\n\u001b[0;32m----> 9\u001b[0;31m     \u001b[0mres\u001b[0m \u001b[0;34m=\u001b[0m \u001b[0mBE\u001b[0m\u001b[0;34m.\u001b[0m\u001b[0mget_cardinality\u001b[0m\u001b[0;34m(\u001b[0m\u001b[0mquery\u001b[0m\u001b[0;34m)\u001b[0m\u001b[0;34m\u001b[0m\u001b[0;34m\u001b[0m\u001b[0m\n\u001b[0m\u001b[1;32m     10\u001b[0m     \u001b[0mpred\u001b[0m\u001b[0;34m.\u001b[0m\u001b[0mappend\u001b[0m\u001b[0;34m(\u001b[0m\u001b[0mres\u001b[0m\u001b[0;34m)\u001b[0m\u001b[0;34m\u001b[0m\u001b[0;34m\u001b[0m\u001b[0m\n\u001b[1;32m     11\u001b[0m     \u001b[0mlatency\u001b[0m\u001b[0;34m.\u001b[0m\u001b[0mappend\u001b[0m\u001b[0;34m(\u001b[0m\u001b[0mtime\u001b[0m\u001b[0;34m.\u001b[0m\u001b[0mtime\u001b[0m\u001b[0;34m(\u001b[0m\u001b[0;34m)\u001b[0m \u001b[0;34m-\u001b[0m \u001b[0mt\u001b[0m\u001b[0;34m)\u001b[0m\u001b[0;34m\u001b[0m\u001b[0;34m\u001b[0m\u001b[0m\n",
      "\u001b[0;32m<ipython-input-38-217db9cf095c>\u001b[0m in \u001b[0;36mget_cardinality\u001b[0;34m(self, query_str)\u001b[0m\n\u001b[1;32m    131\u001b[0m         \u001b[0mequivalent_group\u001b[0m \u001b[0;34m=\u001b[0m \u001b[0mget_join_hyper_graph\u001b[0m\u001b[0;34m(\u001b[0m\u001b[0mjoin_keys\u001b[0m\u001b[0;34m,\u001b[0m \u001b[0mself\u001b[0m\u001b[0;34m.\u001b[0m\u001b[0mequivalent_keys\u001b[0m\u001b[0;34m)\u001b[0m\u001b[0;34m\u001b[0m\u001b[0;34m\u001b[0m\u001b[0m\n\u001b[1;32m    132\u001b[0m         \u001b[0mprint\u001b[0m\u001b[0;34m(\u001b[0m\u001b[0mequivalent_group\u001b[0m\u001b[0;34m)\u001b[0m\u001b[0;34m\u001b[0m\u001b[0;34m\u001b[0m\u001b[0m\n\u001b[0;32m--> 133\u001b[0;31m         \u001b[0;32mfor\u001b[0m \u001b[0mkey_group\u001b[0m \u001b[0;32min\u001b[0m \u001b[0moptimal_order\u001b[0m\u001b[0;34m:\u001b[0m\u001b[0;34m\u001b[0m\u001b[0;34m\u001b[0m\u001b[0m\n\u001b[0m\u001b[1;32m    134\u001b[0m             \u001b[0mres\u001b[0m \u001b[0;34m=\u001b[0m \u001b[0mself\u001b[0m\u001b[0;34m.\u001b[0m\u001b[0meliminate_one_key_group\u001b[0m\u001b[0;34m(\u001b[0m\u001b[0mkey_group\u001b[0m\u001b[0;34m,\u001b[0m \u001b[0mrelevant_keys\u001b[0m\u001b[0;34m)\u001b[0m\u001b[0;34m\u001b[0m\u001b[0;34m\u001b[0m\u001b[0m\n\u001b[1;32m    135\u001b[0m         \u001b[0;32mreturn\u001b[0m \u001b[0mres\u001b[0m \u001b[0;34m*\u001b[0m \u001b[0mtable_probs\u001b[0m\u001b[0;34m\u001b[0m\u001b[0;34m\u001b[0m\u001b[0m\n",
      "\u001b[0;31mNameError\u001b[0m: name 'optimal_order' is not defined"
     ]
    }
   ],
   "source": [
    "qerror = []\n",
    "latency = []\n",
    "pred = []\n",
    "for i, query_str in enumerate(queries):\n",
    "    query = query_str.split(\"||\")[0][:-1]\n",
    "    print(\"========================\")\n",
    "    true_card = int(query_str.split(\"||\")[-1])\n",
    "    t = time.time()\n",
    "    res = BE.get_cardinality(query)\n",
    "    pred.append(res)\n",
    "    latency.append(time.time() - t)\n",
    "    qerror.append(res/true_card)\n",
    "    print(f\"estimating query {i}: predicted {res}, true_card {true_card}, qerror {res/true_card}, latency {time.time() - t}\")"
   ]
  },
  {
   "cell_type": "code",
   "execution_count": null,
   "id": "d81df12a",
   "metadata": {},
   "outputs": [],
   "source": []
  }
 ],
 "metadata": {
  "kernelspec": {
   "display_name": "Python 3",
   "language": "python",
   "name": "python3"
  },
  "language_info": {
   "codemirror_mode": {
    "name": "ipython",
    "version": 3
   },
   "file_extension": ".py",
   "mimetype": "text/x-python",
   "name": "python",
   "nbconvert_exporter": "python",
   "pygments_lexer": "ipython3",
   "version": "3.7.11"
  }
 },
 "nbformat": 4,
 "nbformat_minor": 5
}
