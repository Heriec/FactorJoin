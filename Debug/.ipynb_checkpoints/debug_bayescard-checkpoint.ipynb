{
 "cells": [
  {
   "cell_type": "code",
   "execution_count": 1,
   "id": "dba0fb89",
   "metadata": {},
   "outputs": [],
   "source": [
    "import pickle\n",
    "import sys\n",
    "sys.path.append(\"/Users/ziniuw/Desktop/research/Learned_QO/CE_scheme\")\n",
    "from Join_scheme.data_prepare import process_stats_data\n",
    "from BayesCard.Models.Bayescard_BN import Bayescard_BN\n",
    "import time\n",
    "import pandas as pd\n",
    "import numpy as np\n",
    "from BayesCard.Evaluation.cardinality_estimation import parse_query_single_table"
   ]
  },
  {
   "cell_type": "code",
   "execution_count": 2,
   "id": "375935d6",
   "metadata": {},
   "outputs": [
    {
     "name": "stdout",
     "output_type": "stream",
     "text": [
      "bucketizing equivalent key group: {'votes.PostId', 'tags.ExcerptPostId', 'posts.Id', 'postLinks.PostId', 'postLinks.RelatedPostId', 'postHistory.PostId', 'comments.PostId'}\n",
      "bucketizing equivalent key group: {'badges.UserId', 'postHistory.UserId', 'comments.UserId', 'posts.OwnerUserId', 'votes.UserId', 'users.Id'}\n"
     ]
    }
   ],
   "source": [
    "data_path = \"/Users/ziniuw/Desktop/past_research/End-to-End-CardEst-Benchmark/datasets/stats_simplified/{}.csv\"\n",
    "model_folder = \"../../CE_scheme_models\"\n",
    "data, null_values, key_attrs, table_buckets, equivalent_keys, schema, bin_size = process_stats_data(data_path,\n",
    "                                                                       model_folder, 200, False)"
   ]
  },
  {
   "cell_type": "code",
   "execution_count": null,
   "id": "af9b5eb1",
   "metadata": {},
   "outputs": [],
   "source": [
    "table = \"comments\"\n",
    "bucket = table_buckets[table]\n",
    "for attr in bucket.id_attributes:\n",
    "    print(attr)\n",
    "    print(np.sum(bucket.oned_bin_modes[attr]), bucket.oned_bin_modes[attr].shape)\n",
    "    if len(bucket.twod_bin_modes[attr]) != 0:\n",
    "        print(np.sum(bucket.twod_bin_modes[attr]), bucket.twod_bin_modes[attr].shape)"
   ]
  },
  {
   "cell_type": "code",
   "execution_count": null,
   "id": "47aae41e",
   "metadata": {},
   "outputs": [],
   "source": [
    "print(bucket.oned_bin_modes['comments.PostId'])\n",
    "print(np.sum(bucket.twod_bin_modes['comments.PostId'], axis=1))"
   ]
  },
  {
   "cell_type": "code",
   "execution_count": 3,
   "id": "3a69d23c",
   "metadata": {},
   "outputs": [
    {
     "name": "stdout",
     "output_type": "stream",
     "text": [
      "Discretizing table takes 0.3200809955596924 secs\n",
      "Structure learning took 2.087620258331299 secs.\n",
      "done, parameter learning took 0.21097993850708008 secs.\n"
     ]
    }
   ],
   "source": [
    "table = \"posts\"\n",
    "bn = Bayescard_BN(table, key_attrs[table], bin_size[table], null_values=null_values[table])\n",
    "bn.build_from_data(data[table])"
   ]
  },
  {
   "cell_type": "code",
   "execution_count": null,
   "id": "07ba23b3",
   "metadata": {},
   "outputs": [],
   "source": []
  },
  {
   "cell_type": "code",
   "execution_count": 7,
   "id": "33ef7fa8",
   "metadata": {},
   "outputs": [],
   "source": [
    "from Join_scheme.join_graph import process_condition, get_join_hyper_graph\n",
    "from BayesCard.Evaluation.cardinality_estimation import timestamp_transorform, construct_table_query\n",
    "def parse_query_simple(bns, query):\n",
    "    \"\"\"\n",
    "    If your selection query contains no aggregation and nested sub-queries, you can use this function to parse a\n",
    "    join query. Otherwise, use parse_query function.\n",
    "    \"\"\"\n",
    "    query = query.replace(\" where \", \" WHERE \")\n",
    "    query = query.replace(\" from \", \" FROM \")\n",
    "    query = query.replace(\" and \", \" AND \")\n",
    "    query = query.split(\";\")[0]\n",
    "    query = query.strip()\n",
    "    tables_all = {}\n",
    "    join_cond = []\n",
    "    table_query = {}\n",
    "    join_keys = {}\n",
    "    tables_str = query.split(\" WHERE \")[0].split(\" FROM \")[-1]\n",
    "    for table_str in tables_str.split(\",\"):\n",
    "        table_str = table_str.strip()\n",
    "        if \" as \" in table_str:\n",
    "            tables_all[table_str.split(\" as \")[-1]] = table_str.split(\" as \")[0]\n",
    "        else:\n",
    "            tables_all[table_str.split(\" \")[-1]] = table_str.split(\" \")[0]\n",
    "\n",
    "    # processing conditions\n",
    "    conditions = query.split(\" WHERE \")[-1].split(\" AND \")\n",
    "    for cond in conditions:\n",
    "        table, cond, join, join_key = process_condition(cond, tables_all)\n",
    "        if not join:\n",
    "            attr = cond[0]\n",
    "            op = cond[1]\n",
    "            value = cond[2]\n",
    "            if \"Date\" in attr:\n",
    "                assert \"::timestamp\" in value\n",
    "                value = timestamp_transorform(value.strip().split(\"::timestamp\")[0])\n",
    "            if table not in table_query:\n",
    "                table_query[table] = dict()\n",
    "            construct_table_query(bns[table], table_query[table], attr, op, value)\n",
    "        else:\n",
    "            join_cond.append(cond)\n",
    "            for tab in join_key:\n",
    "                if tab in join_keys:\n",
    "                    join_keys[tab].add(join_key[tab])\n",
    "                else:\n",
    "                    join_keys[tab] = set([join_key[tab]])\n",
    "\n",
    "    return tables_all, table_query, join_cond, join_keys"
   ]
  },
  {
   "cell_type": "code",
   "execution_count": 5,
   "id": "1bfd71b7",
   "metadata": {},
   "outputs": [
    {
     "name": "stdout",
     "output_type": "stream",
     "text": [
      "true1: 90764\n",
      "true2: 172156\n",
      "true3: 42308\n",
      "true4: 261476\n",
      "true5: 8776\n",
      "true6: 37062\n",
      "true7: 77704\n",
      "true8: 1032\n"
     ]
    }
   ],
   "source": [
    "query1 = \"SELECT COUNT(*) FROM posts as p WHERE posts.CommentCount<=18 AND posts.CreationDate>='2010-07-23 07:27:31'::timestamp AND posts.CreationDate<='2014-09-09 01:43:00'::timestamp\"\n",
    "print(\"true1: 90764\")\n",
    "query2 = \"SELECT COUNT(*) FROM comments as c WHERE comments.CreationDate>='2010-08-05 00:36:02'::timestamp AND comments.CreationDate<='2014-09-08 16:50:49'::timestamp\"\n",
    "print(\"true2: 172156\")\n",
    "query3 = \"SELECT COUNT(*) FROM postHistory as ph WHERE postHistory.PostHistoryTypeId=1 AND postHistory.CreationDate>='2010-09-14 11:59:07'::timestamp\"\n",
    "print(\"true3: 42308\")\n",
    "query4 = \"SELECT COUNT(*) FROM votes as v WHERE votes.VoteTypeId=2 AND votes.CreationDate<='2014-09-10 00:00:00'::timestamp\"\n",
    "print(\"true4: 261476\")\n",
    "query5 = \"SELECT COUNT(*) FROM postLinks as pl WHERE postLinks.LinkTypeId=1 AND postLinks.CreationDate>='2011-09-03 21:00:10'::timestamp AND postLinks.CreationDate<='2014-07-30 21:29:52'::timestamp\"\n",
    "print(\"true5: 8776\")\n",
    "query6 = \"SELECT COUNT(*) FROM users as u WHERE users.DownVotes>=0 AND users.DownVotes<=0 AND users.UpVotes>=0 AND users.UpVotes<=31 AND users.CreationDate<='2014-08-06 20:38:52'::timestamp\"\n",
    "print(\"true6: 37062\")\n",
    "query7 = \"SELECT COUNT(*) FROM badges as b WHERE badges.Date>='2010-09-26 12:17:14'::timestamp\"\n",
    "print(\"true7: 77704\")\n",
    "query8 = \"SELECT COUNT(*) FROM tags\"\n",
    "print(\"true8: 1032\")\n",
    "\n"
   ]
  },
  {
   "cell_type": "code",
   "execution_count": 6,
   "id": "d9785b13",
   "metadata": {},
   "outputs": [
    {
     "ename": "NameError",
     "evalue": "name 'process_condition' is not defined",
     "output_type": "error",
     "traceback": [
      "\u001b[0;31m---------------------------------------------------------------------------\u001b[0m",
      "\u001b[0;31mNameError\u001b[0m                                 Traceback (most recent call last)",
      "\u001b[0;32m<ipython-input-6-e24a7f4cfac6>\u001b[0m in \u001b[0;36m<module>\u001b[0;34m\u001b[0m\n\u001b[0;32m----> 1\u001b[0;31m \u001b[0ma\u001b[0m\u001b[0;34m,\u001b[0m \u001b[0mb\u001b[0m\u001b[0;34m,\u001b[0m \u001b[0mc\u001b[0m\u001b[0;34m,\u001b[0m \u001b[0md\u001b[0m \u001b[0;34m=\u001b[0m \u001b[0mparse_query_simple\u001b[0m\u001b[0;34m(\u001b[0m\u001b[0mbn\u001b[0m\u001b[0;34m,\u001b[0m \u001b[0mquery1\u001b[0m\u001b[0;34m)\u001b[0m\u001b[0;34m\u001b[0m\u001b[0;34m\u001b[0m\u001b[0m\n\u001b[0m",
      "\u001b[0;32m<ipython-input-4-2649ab8a6224>\u001b[0m in \u001b[0;36mparse_query_simple\u001b[0;34m(bn, query)\u001b[0m\n\u001b[1;32m     25\u001b[0m     \u001b[0mconditions\u001b[0m \u001b[0;34m=\u001b[0m \u001b[0mquery\u001b[0m\u001b[0;34m.\u001b[0m\u001b[0msplit\u001b[0m\u001b[0;34m(\u001b[0m\u001b[0;34m\" WHERE \"\u001b[0m\u001b[0;34m)\u001b[0m\u001b[0;34m[\u001b[0m\u001b[0;34m-\u001b[0m\u001b[0;36m1\u001b[0m\u001b[0;34m]\u001b[0m\u001b[0;34m.\u001b[0m\u001b[0msplit\u001b[0m\u001b[0;34m(\u001b[0m\u001b[0;34m\" AND \"\u001b[0m\u001b[0;34m)\u001b[0m\u001b[0;34m\u001b[0m\u001b[0;34m\u001b[0m\u001b[0m\n\u001b[1;32m     26\u001b[0m     \u001b[0;32mfor\u001b[0m \u001b[0mcond\u001b[0m \u001b[0;32min\u001b[0m \u001b[0mconditions\u001b[0m\u001b[0;34m:\u001b[0m\u001b[0;34m\u001b[0m\u001b[0;34m\u001b[0m\u001b[0m\n\u001b[0;32m---> 27\u001b[0;31m         \u001b[0mtable\u001b[0m\u001b[0;34m,\u001b[0m \u001b[0mcond\u001b[0m\u001b[0;34m,\u001b[0m \u001b[0mjoin\u001b[0m\u001b[0;34m,\u001b[0m \u001b[0mjoin_key\u001b[0m \u001b[0;34m=\u001b[0m \u001b[0mprocess_condition\u001b[0m\u001b[0;34m(\u001b[0m\u001b[0mcond\u001b[0m\u001b[0;34m,\u001b[0m \u001b[0mtables_all\u001b[0m\u001b[0;34m)\u001b[0m\u001b[0;34m\u001b[0m\u001b[0;34m\u001b[0m\u001b[0m\n\u001b[0m\u001b[1;32m     28\u001b[0m         \u001b[0;32mif\u001b[0m \u001b[0;32mnot\u001b[0m \u001b[0mjoin\u001b[0m\u001b[0;34m:\u001b[0m\u001b[0;34m\u001b[0m\u001b[0;34m\u001b[0m\u001b[0m\n\u001b[1;32m     29\u001b[0m             \u001b[0mattr\u001b[0m \u001b[0;34m=\u001b[0m \u001b[0mcond\u001b[0m\u001b[0;34m[\u001b[0m\u001b[0;36m0\u001b[0m\u001b[0;34m]\u001b[0m\u001b[0;34m\u001b[0m\u001b[0;34m\u001b[0m\u001b[0m\n",
      "\u001b[0;31mNameError\u001b[0m: name 'process_condition' is not defined"
     ]
    }
   ],
   "source": [
    "true_card = 17849233970\n",
    "query57 = \"SELECT COUNT(*) FROM posts as p, postLinks as pl, postHistory as ph, votes as v, badges as b, users as u WHERE p.Id = pl.RelatedPostId AND u.Id = p.OwnerUserId AND u.Id = b.UserId AND u.Id = ph.UserId AND u.Id = v.UserId AND p.CommentCount>=0 AND p.CommentCount<=13 AND ph.PostHistoryTypeId=5 AND ph.CreationDate<='2014-08-13 09:20:10'::timestamp AND v.CreationDate>='2010-07-19 00:00:00'::timestamp AND b.Date<='2014-09-09 10:24:35'::timestamp AND u.Views>=0 AND u.DownVotes>=0 AND u.CreationDate>='2010-08-04 16:59:53'::timestamp AND u.CreationDate<='2014-07-22 15:15:22'::timestamp;\"\n",
    "t = time.time()\n",
    "tables_all, table_cond, join_cond, join_keys = parse_query_simple(bns, query1)\n",
    "print(time.time()-t)\n",
    "a, b, c, d = parse_query_simple(bn, query1)"
   ]
  },
  {
   "cell_type": "code",
   "execution_count": null,
   "id": "f18afdc5",
   "metadata": {},
   "outputs": [],
   "source": [
    "bn.init_inference_method()\n",
    "bn.infer_algo = \"exact-jit\"\n",
    "query = parse_query_single_table(query2, bn)\n",
    "id_attrs = bn.id_attributes\n",
    "t = time.time()\n",
    "res = bn.query_id_prob(query, id_attrs)\n",
    "print(np.sum(res[-1]))\n",
    "print(time.time()-t)\n",
    "query = parse_query_single_table(query2, bn)\n",
    "t = time.time()\n",
    "print(bn.query(query))\n",
    "print(time.time() - t)"
   ]
  },
  {
   "cell_type": "code",
   "execution_count": null,
   "id": "fbc9b0dd",
   "metadata": {},
   "outputs": [],
   "source": [
    "bn.id_attributes"
   ]
  },
  {
   "cell_type": "code",
   "execution_count": null,
   "id": "5646e25b",
   "metadata": {},
   "outputs": [],
   "source": [
    "bn.encoding['posts.OwnerUserId'].astype(int)"
   ]
  },
  {
   "cell_type": "code",
   "execution_count": null,
   "id": "c0fd5734",
   "metadata": {},
   "outputs": [],
   "source": [
    "from BayesCard.Evaluation.cardinality_estimation import parse_query_single_table\n",
    "def debug_init_inference_method(bn):\n",
    "    cpds, topological_order, topological_order_node = bn.align_cpds_in_topological()\n",
    "    bn.cpds = cpds\n",
    "    bn.topological_order = topological_order\n",
    "    bn.topological_order_node = topological_order_node\n",
    "    bn.infer_machine = VariableEliminationJIT(bn.model, cpds, topological_order, topological_order_node,\n",
    "                                            fanouts=bn.id_attributes)\n",
    "\n",
    "debug_init_inference_method(bn)\n",
    "query, n_distinct = bn.query_decoding(parse_query_single_table(query3, bn))\n",
    "id_attrs = ['postHistory.PostId', 'postHistory.UserId']\n",
    "t = time.time()\n",
    "res = bn.infer_machine.temp(query, id_attrs, n_distinct, bn)\n",
    "print(time.time()-t)"
   ]
  },
  {
   "cell_type": "code",
   "execution_count": null,
   "id": "823ff74e",
   "metadata": {},
   "outputs": [],
   "source": [
    "query, n_distinct = bn.query_decoding(parse_query_single_table(query3, bn))\n",
    "bn.infer_machine.query(query, n_distinct) * bn.nrows"
   ]
  },
  {
   "cell_type": "code",
   "execution_count": null,
   "id": "993742ec",
   "metadata": {},
   "outputs": [],
   "source": [
    "np.sum(res[-1])"
   ]
  },
  {
   "cell_type": "code",
   "execution_count": null,
   "id": "70c4df88",
   "metadata": {},
   "outputs": [],
   "source": [
    "res"
   ]
  },
  {
   "cell_type": "code",
   "execution_count": null,
   "id": "2ec98c66",
   "metadata": {},
   "outputs": [],
   "source": [
    "res[-1].shape"
   ]
  },
  {
   "cell_type": "code",
   "execution_count": null,
   "id": "d7f9e2a0",
   "metadata": {},
   "outputs": [],
   "source": [
    "bn.bin_size"
   ]
  },
  {
   "cell_type": "code",
   "execution_count": null,
   "id": "ff496a82",
   "metadata": {},
   "outputs": [],
   "source": [
    "bn.id_exist_null"
   ]
  },
  {
   "cell_type": "code",
   "execution_count": null,
   "id": "417cb609",
   "metadata": {},
   "outputs": [],
   "source": [
    "query = \"SELECT COUNT(*) FROM comments as c WHERE comments.CreationDate>='2010-08-05 00:36:02'::timestamp AND comments.CreationDate<='2014-09-08 16:50:49'::timestamp\"\n",
    "query, n_distinct = bn.query_decoding(parse_query_single_table(query, bn))\n",
    "t = time.time()\n",
    "print(bn.infer_machine.query(query) * bn.nrows)\n",
    "print(time.time() - t)"
   ]
  },
  {
   "cell_type": "code",
   "execution_count": null,
   "id": "d6dcdb75",
   "metadata": {},
   "outputs": [],
   "source": [
    "a = np.ones((3,4))\n",
    "a.shape"
   ]
  },
  {
   "cell_type": "code",
   "execution_count": null,
   "id": "0eee8b0a",
   "metadata": {},
   "outputs": [],
   "source": [
    "a[[1,2]][:, [2,3]] = 0"
   ]
  },
  {
   "cell_type": "code",
   "execution_count": null,
   "id": "edf8e4a4",
   "metadata": {},
   "outputs": [],
   "source": [
    "a[np.ix_([1,2], [2,3])] = 0"
   ]
  },
  {
   "cell_type": "code",
   "execution_count": null,
   "id": "dd862474",
   "metadata": {},
   "outputs": [],
   "source": [
    "a"
   ]
  },
  {
   "cell_type": "code",
   "execution_count": null,
   "id": "80f75464",
   "metadata": {},
   "outputs": [],
   "source": [
    "b = np.ones(3)\n",
    "(a.T * b).T.shape"
   ]
  }
 ],
 "metadata": {
  "kernelspec": {
   "display_name": "Python 3",
   "language": "python",
   "name": "python3"
  },
  "language_info": {
   "codemirror_mode": {
    "name": "ipython",
    "version": 3
   },
   "file_extension": ".py",
   "mimetype": "text/x-python",
   "name": "python",
   "nbconvert_exporter": "python",
   "pygments_lexer": "ipython3",
   "version": "3.7.11"
  }
 },
 "nbformat": 4,
 "nbformat_minor": 5
}
