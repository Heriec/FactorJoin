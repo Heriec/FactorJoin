{
 "cells": [
  {
   "cell_type": "code",
   "execution_count": null,
   "id": "dba0fb89",
   "metadata": {},
   "outputs": [],
   "source": [
    "import pickle\n",
    "import sys\n",
    "sys.path.append(\"../\")\n",
    "from Join_scheme.data_prepare import process_stats_data\n",
    "from BayesCard.Models.Bayescard_BN import Bayescard_BN\n",
    "import time\n",
    "import pandas as pd\n",
    "import numpy as np\n",
    "from BayesCard.Evaluation.cardinality_estimation import parse_query_single_table"
   ]
  },
  {
   "cell_type": "code",
   "execution_count": null,
   "id": "375935d6",
   "metadata": {},
   "outputs": [],
   "source": [
    "import pickle\n",
    "import time\n",
    "import numpy as np\n",
    "from Join_scheme.data_prepare import process_stats_data\n",
    "from Join_scheme.bound import Bound_ensemble\n",
    "from BayesCard.Models.Bayescard_BN import Bayescard_BN\n",
    "from BayesCard.Evaluation.cardinality_estimation import parse_query_single_table\n",
    "\n",
    "\n",
    "def test_trained_BN_on_stats(bn, t_name):\n",
    "    queries = {\n",
    "        \"posts\": \"SELECT COUNT(*) FROM posts as p WHERE posts.CommentCount<=18 AND posts.CreationDate>='2010-07-23 07:27:31'::timestamp AND posts.CreationDate<='2014-09-09 01:43:00'::timestamp\",\n",
    "        \"comments\": \"SELECT COUNT(*) FROM comments as c WHERE comments.CreationDate>='2010-08-05 00:36:02'::timestamp AND comments.CreationDate<='2014-09-08 16:50:49'::timestamp\",\n",
    "        \"postHistory\": \"SELECT COUNT(*) FROM postHistory as ph WHERE postHistory.PostHistoryTypeId=1 AND postHistory.CreationDate>='2010-09-14 11:59:07'::timestamp\",\n",
    "        \"votes\": \"SELECT COUNT(*) FROM votes as v WHERE votes.VoteTypeId=2 AND votes.CreationDate<='2014-09-10 00:00:00'::timestamp\",\n",
    "        \"postLinks\": \"SELECT COUNT(*) FROM postLinks as pl WHERE postLinks.LinkTypeId=1 AND postLinks.CreationDate>='2011-09-03 21:00:10'::timestamp AND postLinks.CreationDate<='2014-07-30 21:29:52'::timestamp\",\n",
    "        \"users\": \"SELECT COUNT(*) FROM users as u WHERE users.DownVotes>=0 AND users.DownVotes<=0 AND users.UpVotes>=0 AND users.UpVotes<=31 AND users.CreationDate<='2014-08-06 20:38:52'::timestamp\",\n",
    "        \"badges\": \"SELECT COUNT(*) FROM badges as b WHERE badges.Date>='2010-09-26 12:17:14'::timestamp\",\n",
    "        \"tags\": \"SELECT COUNT(*) FROM tags\"\n",
    "    }\n",
    "\n",
    "    true_cards = {\n",
    "        \"posts\": 90764,\n",
    "        \"comments\": 172156,\n",
    "        \"postHistory\": 42308,\n",
    "        \"votes\": 261476,\n",
    "        \"postLinks\": 8776,\n",
    "        \"users\": 37062,\n",
    "        \"badges\": 77704,\n",
    "        \"tags\": 1032\n",
    "    }\n",
    "\n",
    "    bn.init_inference_method()\n",
    "    bn.infer_algo = \"exact-jit\"\n",
    "    query = parse_query_single_table(queries[t_name], bn)\n",
    "    pred = bn.query(query)\n",
    "    assert min(pred, true_cards[t_name]) / max(pred, true_cards[t_name]) <= 1.5, f\"Qerror too large, we have predition\" \\\n",
    "                                                                        f\"{pred} for true card {true_cards[t_name]}\"\n",
    "\n",
    "    query = parse_query_single_table(queries[t_name], bn)\n",
    "    _, id_probs = bn.query_id_prob(query, bn.id_attributes)\n",
    "    if t_name not in ['votes', 'tags']:\n",
    "        assert min(pred, np.sum(id_probs)) / max(pred, np.sum(id_probs)) <= 1.5, \"query_id_prob is incorrect\"\n",
    "\n",
    "\n",
    "data_path = \"~/End-to-End-CardEst-Benchmark/datasets/stats_simplified/{}.csv\"\n",
    "model_folder = \"/home/ubuntu/data_CE/saved_models\"\n",
    "n_bins = 200\n",
    "bucket_method = \"greedy\"\n",
    "save_bucket_bins = False\n",
    "\n",
    "data, null_values, key_attrs, table_buckets, equivalent_keys, schema, bin_size = process_stats_data(data_path,\n",
    "                                                            model_folder, n_bins, bucket_method, save_bucket_bins)\n",
    "all_bns = dict()\n",
    "for table in schema.tables:\n",
    "    t_name = table.table_name\n",
    "    bn = Bayescard_BN(t_name, key_attrs[t_name], bin_size[t_name], null_values=null_values[t_name])\n",
    "    bn.build_from_data(data[t_name])\n",
    "    test_trained_BN_on_stats(bn, t_name)\n",
    "    all_bns[t_name] = bn\n",
    "    #model_path = model_folder + f\"{t_name}.pkl\"\n",
    "    #pickle.dump(bn, open(model_path, 'wb'), pickle.HIGHEST_PROTOCOL)\n",
    "\n",
    "be = Bound_ensemble(all_bns, table_buckets, schema)"
   ]
  },
  {
   "cell_type": "code",
   "execution_count": null,
   "id": "3cc285dc",
   "metadata": {},
   "outputs": [],
   "source": [
    "model_folder = \"/home/ubuntu/data_CE/CE_scheme_models/\"\n",
    "model_path = model_folder + f\"model_stats_greedy_{n_bins}.pkl\"\n",
    "pickle.dump(be, open(model_path, 'wb'), pickle.HIGHEST_PROTOCOL)"
   ]
  },
  {
   "cell_type": "code",
   "execution_count": null,
   "id": "682137a0",
   "metadata": {},
   "outputs": [],
   "source": [
    "model_path = \"/home/ubuntu/data_CE/CE_scheme_models/model_stats_greedy_200.pkl\"\n",
    "with open(model_path, \"rb\") as f:\n",
    "    bound_ensemble = pickle.load(f)"
   ]
  },
  {
   "cell_type": "code",
   "execution_count": null,
   "id": "33ef7fa8",
   "metadata": {},
   "outputs": [],
   "source": [
    "from Join_scheme.join_graph import process_condition, get_join_hyper_graph\n",
    "from BayesCard.Evaluation.cardinality_estimation import timestamp_transorform\n",
    "\n",
    "\n",
    "OPS = {\n",
    "    '>': np.greater,\n",
    "    '<': np.less,\n",
    "    '>=': np.greater_equal,\n",
    "    '<=': np.less_equal,\n",
    "    '=': np.equal,\n",
    "    '==': np.equal\n",
    "}\n",
    "\n",
    "\n",
    "def construct_table_query(BN, table_query, attr, ops, val, epsilon=1e-6):\n",
    "    if BN is None or attr not in BN.attr_type:\n",
    "        return None\n",
    "    if BN.attr_type[attr] == 'continuous':\n",
    "        if ops == \">=\":\n",
    "            query_domain = (val, np.infty)\n",
    "        elif ops == \">\":\n",
    "            query_domain = (val + epsilon, np.infty)\n",
    "        elif ops == \"<=\":\n",
    "            query_domain = (-np.infty, val)\n",
    "        elif ops == \"<\":\n",
    "            query_domain = (-np.infty, val - epsilon)\n",
    "        elif ops == \"=\" or ops == \"==\":\n",
    "            query_domain = val\n",
    "        else:\n",
    "            assert False, f\"operation {ops} is invalid for continous domain\"\n",
    "\n",
    "        if attr not in table_query:\n",
    "            table_query[attr] = query_domain\n",
    "        else:\n",
    "            prev_l = table_query[attr][0]\n",
    "            prev_r = table_query[attr][1]\n",
    "            query_domain = (max(prev_l, query_domain[0]), min(prev_r, query_domain[1]))\n",
    "            table_query[attr] = query_domain\n",
    "\n",
    "    else:\n",
    "        attr_domain = BN.domain[attr]\n",
    "        if type(attr_domain[0]) != str:\n",
    "            attr_domain = np.asarray(attr_domain)\n",
    "        if ops == \"in\":\n",
    "            assert type(val) == list, \"use list for in query\"\n",
    "            query_domain = val\n",
    "        elif ops == \"=\" or ops == \"==\":\n",
    "            if type(val) == list:\n",
    "                query_domain = val\n",
    "            else:\n",
    "                query_domain = [val]\n",
    "        else:\n",
    "            if type(val) == list:\n",
    "                assert len(val) == 1\n",
    "                val = val[0]\n",
    "                assert (type(val) == int or type(val) == float)\n",
    "            operater = OPS[ops]\n",
    "            query_domain = list(attr_domain[operater(attr_domain, val)])\n",
    "\n",
    "        if attr not in table_query:\n",
    "            table_query[attr] = query_domain\n",
    "        else:\n",
    "            query_domain = [i for i in query_domain if i in table_query[attr]]\n",
    "            table_query[attr] = query_domain\n",
    "\n",
    "    return table_query\n",
    "\n",
    "\n",
    "def parse_query_simple(bns, query):\n",
    "    \"\"\"\n",
    "    If your selection query contains no aggregation and nested sub-queries, you can use this function to parse a\n",
    "    join query. Otherwise, use parse_query function.\n",
    "    \"\"\"\n",
    "    query = query.replace(\" where \", \" WHERE \")\n",
    "    query = query.replace(\" from \", \" FROM \")\n",
    "    query = query.replace(\" and \", \" AND \")\n",
    "    query = query.split(\";\")[0]\n",
    "    query = query.strip()\n",
    "    tables_all = {}\n",
    "    join_cond = []\n",
    "    table_query = {}\n",
    "    join_keys = {}\n",
    "    tables_str = query.split(\" WHERE \")[0].split(\" FROM \")[-1]\n",
    "    for table_str in tables_str.split(\",\"):\n",
    "        table_str = table_str.strip()\n",
    "        if \" as \" in table_str:\n",
    "            tables_all[table_str.split(\" as \")[-1]] = table_str.split(\" as \")[0]\n",
    "        else:\n",
    "            tables_all[table_str.split(\" \")[-1]] = table_str.split(\" \")[0]\n",
    "\n",
    "    # processing conditions\n",
    "    conditions = query.split(\" WHERE \")[-1].split(\" AND \")\n",
    "    for cond in conditions:\n",
    "        table, cond, join, join_key = process_condition(cond, tables_all)\n",
    "        if not join:\n",
    "            attr = cond[0]\n",
    "            op = cond[1]\n",
    "            value = cond[2]\n",
    "            if \"Date\" in attr:\n",
    "                assert \"::timestamp\" in value\n",
    "                value = timestamp_transorform(value.strip().split(\"::timestamp\")[0])\n",
    "            if table not in table_query:\n",
    "                table_query[table] = dict()\n",
    "            construct_table_query(bns[table], table_query[table], attr, op, value)\n",
    "        else:\n",
    "            join_cond.append(cond)\n",
    "            for tab in join_key:\n",
    "                if tab in join_keys:\n",
    "                    join_keys[tab].add(join_key[tab])\n",
    "                else:\n",
    "                    join_keys[tab] = set([join_key[tab]])\n",
    "\n",
    "    return tables_all, table_query, join_cond, join_keys"
   ]
  },
  {
   "cell_type": "code",
   "execution_count": null,
   "id": "a8a5e57c",
   "metadata": {},
   "outputs": [],
   "source": [
    "true_card = 17849233970\n",
    "query57 = \"SELECT COUNT(*) FROM posts as p, postLinks as pl, postHistory as ph, votes as v, badges as b, users as u WHERE p.Id = pl.RelatedPostId AND u.Id = p.OwnerUserId AND u.Id = b.UserId AND u.Id = ph.UserId AND u.Id = v.UserId AND p.CommentCount>=0 AND p.CommentCount<=13 AND ph.PostHistoryTypeId=5 AND ph.CreationDate<='2014-08-13 09:20:10'::timestamp AND v.CreationDate>='2010-07-19 00:00:00'::timestamp AND b.Date<='2014-09-09 10:24:35'::timestamp AND u.Views>=0 AND u.DownVotes>=0 AND u.CreationDate>='2010-08-04 16:59:53'::timestamp AND u.CreationDate<='2014-07-22 15:15:22'::timestamp;\"\n",
    "t = time.time()\n",
    "tables_all, table_cond, join_cond, join_keys = parse_query_simple(bound_ensemble.bns, query57)\n",
    "\n",
    "print(time.time()-t)"
   ]
  },
  {
   "cell_type": "code",
   "execution_count": null,
   "id": "deaf0374",
   "metadata": {},
   "outputs": [],
   "source": [
    "join_keys[\"posts\"]"
   ]
  },
  {
   "cell_type": "code",
   "execution_count": null,
   "id": "587e8a71",
   "metadata": {},
   "outputs": [],
   "source": [
    "a, b = bound_ensemble.bns['posts'].query_id_prob(table_cond['posts'], list(join_keys[\"posts\"]))"
   ]
  },
  {
   "cell_type": "code",
   "execution_count": null,
   "id": "1bfd71b7",
   "metadata": {},
   "outputs": [],
   "source": [
    "query1 = \"SELECT COUNT(*) FROM posts as p WHERE posts.CommentCount<=18 AND posts.CreationDate>='2010-07-23 07:27:31'::timestamp AND posts.CreationDate<='2014-09-09 01:43:00'::timestamp\"\n",
    "print(\"true1: 90764\")\n",
    "query2 = \"SELECT COUNT(*) FROM comments as c WHERE comments.CreationDate>='2010-08-05 00:36:02'::timestamp AND comments.CreationDate<='2014-09-08 16:50:49'::timestamp\"\n",
    "print(\"true2: 172156\")\n",
    "query3 = \"SELECT COUNT(*) FROM postHistory as ph WHERE postHistory.PostHistoryTypeId=1 AND postHistory.CreationDate>='2010-09-14 11:59:07'::timestamp\"\n",
    "print(\"true3: 42308\")\n",
    "query4 = \"SELECT COUNT(*) FROM votes as v WHERE votes.VoteTypeId=2 AND votes.CreationDate<='2014-09-10 00:00:00'::timestamp\"\n",
    "print(\"true4: 261476\")\n",
    "query5 = \"SELECT COUNT(*) FROM postLinks as pl WHERE postLinks.LinkTypeId=1 AND postLinks.CreationDate>='2011-09-03 21:00:10'::timestamp AND postLinks.CreationDate<='2014-07-30 21:29:52'::timestamp\"\n",
    "print(\"true5: 8776\")\n",
    "query6 = \"SELECT COUNT(*) FROM users as u WHERE users.DownVotes>=0 AND users.DownVotes<=0 AND users.UpVotes>=0 AND users.UpVotes<=31 AND users.CreationDate<='2014-08-06 20:38:52'::timestamp\"\n",
    "print(\"true6: 37062\")\n",
    "query7 = \"SELECT COUNT(*) FROM badges as b WHERE badges.Date>='2010-09-26 12:17:14'::timestamp\"\n",
    "print(\"true7: 77704\")\n",
    "query8 = \"SELECT COUNT(*) FROM tags\"\n",
    "print(\"true8: 1032\")\n",
    "\n"
   ]
  },
  {
   "cell_type": "code",
   "execution_count": null,
   "id": "f18afdc5",
   "metadata": {},
   "outputs": [],
   "source": [
    "bn.init_inference_method()\n",
    "bn.infer_algo = \"exact-jit\"\n",
    "query = parse_query_single_table(query2, bn)\n",
    "id_attrs = bn.id_attributes\n",
    "t = time.time()\n",
    "res = bn.query_id_prob(query, id_attrs)\n",
    "print(np.sum(res[-1]))\n",
    "print(time.time()-t)\n",
    "query = parse_query_single_table(query2, bn)\n",
    "t = time.time()\n",
    "print(bn.query(query))\n",
    "print(time.time() - t)"
   ]
  },
  {
   "cell_type": "code",
   "execution_count": null,
   "id": "fbc9b0dd",
   "metadata": {},
   "outputs": [],
   "source": [
    "bn.id_attributes"
   ]
  },
  {
   "cell_type": "code",
   "execution_count": null,
   "id": "8bc5525f",
   "metadata": {},
   "outputs": [],
   "source": [
    "bn.encoding['posts.OwnerUserId'].astype(int)"
   ]
  },
  {
   "cell_type": "code",
   "execution_count": null,
   "id": "c0fd5734",
   "metadata": {},
   "outputs": [],
   "source": [
    "from BayesCard.Evaluation.cardinality_estimation import parse_query_single_table\n",
    "def debug_init_inference_method(bn):\n",
    "    cpds, topological_order, topological_order_node = bn.align_cpds_in_topological()\n",
    "    bn.cpds = cpds\n",
    "    bn.topological_order = topological_order\n",
    "    bn.topological_order_node = topological_order_node\n",
    "    bn.infer_machine = VariableEliminationJIT(bn.model, cpds, topological_order, topological_order_node,\n",
    "                                            fanouts=bn.id_attributes)\n",
    "\n",
    "debug_init_inference_method(bn)\n",
    "query, n_distinct = bn.query_decoding(parse_query_single_table(query3, bn))\n",
    "id_attrs = ['postHistory.PostId', 'postHistory.UserId']\n",
    "t = time.time()\n",
    "res = bn.infer_machine.temp(query, id_attrs, n_distinct, bn)\n",
    "print(time.time()-t)"
   ]
  },
  {
   "cell_type": "code",
   "execution_count": null,
   "id": "2639a8ab",
   "metadata": {},
   "outputs": [],
   "source": [
    "query, n_distinct = bn.query_decoding(parse_query_single_table(query3, bn))\n",
    "bn.infer_machine.query(query, n_distinct) * bn.nrows"
   ]
  },
  {
   "cell_type": "code",
   "execution_count": null,
   "id": "993742ec",
   "metadata": {},
   "outputs": [],
   "source": [
    "np.sum(res[-1])"
   ]
  },
  {
   "cell_type": "code",
   "execution_count": null,
   "id": "f969e042",
   "metadata": {},
   "outputs": [],
   "source": [
    "res"
   ]
  },
  {
   "cell_type": "code",
   "execution_count": null,
   "id": "2ec98c66",
   "metadata": {},
   "outputs": [],
   "source": [
    "res[-1].shape"
   ]
  },
  {
   "cell_type": "code",
   "execution_count": null,
   "id": "d7f9e2a0",
   "metadata": {},
   "outputs": [],
   "source": [
    "bn.bin_size"
   ]
  },
  {
   "cell_type": "code",
   "execution_count": null,
   "id": "4061ddff",
   "metadata": {},
   "outputs": [],
   "source": [
    "bn.id_exist_null"
   ]
  },
  {
   "cell_type": "code",
   "execution_count": null,
   "id": "417cb609",
   "metadata": {},
   "outputs": [],
   "source": [
    "query = \"SELECT COUNT(*) FROM comments as c WHERE comments.CreationDate>='2010-08-05 00:36:02'::timestamp AND comments.CreationDate<='2014-09-08 16:50:49'::timestamp\"\n",
    "query, n_distinct = bn.query_decoding(parse_query_single_table(query, bn))\n",
    "t = time.time()\n",
    "print(bn.infer_machine.query(query) * bn.nrows)\n",
    "print(time.time() - t)"
   ]
  },
  {
   "cell_type": "code",
   "execution_count": null,
   "id": "d6dcdb75",
   "metadata": {},
   "outputs": [],
   "source": [
    "a = np.ones((3,4))\n",
    "a.shape"
   ]
  },
  {
   "cell_type": "code",
   "execution_count": null,
   "id": "0eee8b0a",
   "metadata": {},
   "outputs": [],
   "source": [
    "a[[1,2]][:, [2,3]] = 0"
   ]
  },
  {
   "cell_type": "code",
   "execution_count": null,
   "id": "ffe02fd8",
   "metadata": {},
   "outputs": [],
   "source": [
    "a[np.ix_([1,2], [2,3])] = 0"
   ]
  },
  {
   "cell_type": "code",
   "execution_count": null,
   "id": "becdcb9d",
   "metadata": {},
   "outputs": [],
   "source": [
    "a"
   ]
  },
  {
   "cell_type": "code",
   "execution_count": null,
   "id": "80f75464",
   "metadata": {},
   "outputs": [],
   "source": [
    "b = np.ones(3)\n",
    "(a.T * b).T.shape"
   ]
  }
 ],
 "metadata": {
  "kernelspec": {
   "display_name": "Python 3",
   "language": "python",
   "name": "python3"
  },
  "language_info": {
   "codemirror_mode": {
    "name": "ipython",
    "version": 3
   },
   "file_extension": ".py",
   "mimetype": "text/x-python",
   "name": "python",
   "nbconvert_exporter": "python",
   "pygments_lexer": "ipython3",
   "version": "3.7.11"
  }
 },
 "nbformat": 4,
 "nbformat_minor": 5
}
