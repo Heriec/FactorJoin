{
 "cells": [
  {
   "cell_type": "code",
   "execution_count": 1,
   "id": "8594c810",
   "metadata": {},
   "outputs": [],
   "source": [
    "import numpy as np\n",
    "import pandas as pd\n",
    "import pickle\n",
    "from scipy import stats\n",
    "import time\n",
    "import sys\n",
    "sys.path.append(\"/home/ubuntu/CE_scheme\")\n",
    "from Schemas.stats.schema import gen_stats_light_schema\n",
    "from Evaluation.training import train_one_stats, test_trained_BN_on_stats\n",
    "from Join_scheme.data_prepare import process_stats_data, update_stats_data\n",
    "from BayesCard.Models.Bayescard_BN import Bayescard_BN\n",
    "from BayesCard.Evaluation.cardinality_estimation import parse_query_single_table"
   ]
  },
  {
   "cell_type": "code",
   "execution_count": 2,
   "id": "8d6454c4",
   "metadata": {},
   "outputs": [],
   "source": [
    "data_folder = '/home/ubuntu/End-to-End-CardEst-Benchmark/datasets/stats_simplified'"
   ]
  },
  {
   "cell_type": "code",
   "execution_count": 3,
   "id": "0a7de3e7",
   "metadata": {},
   "outputs": [],
   "source": [
    "def read_table_csv(table_obj, csv_seperator=',', stats=True):\n",
    "    \"\"\"\n",
    "    Reads csv from path, renames columns and drops unnecessary columns\n",
    "    \"\"\"\n",
    "    if stats:\n",
    "        df_rows = pd.read_csv(table_obj.csv_file_location)\n",
    "    else:\n",
    "        df_rows = pd.read_csv(table_obj.csv_file_location, header=None, escapechar='\\\\', encoding='utf-8',\n",
    "                              quotechar='\"',\n",
    "                              sep=csv_seperator)\n",
    "    df_rows.columns = [table_obj.table_name + '.' + attr for attr in table_obj.attributes]\n",
    "\n",
    "    for attribute in table_obj.irrelevant_attributes:\n",
    "        df_rows = df_rows.drop(table_obj.table_name + '.' + attribute, axis=1)\n",
    "\n",
    "    return df_rows.apply(pd.to_numeric, errors=\"ignore\")\n",
    "\n",
    "\n",
    "def timestamp_transorform(time_string, start_date=\"2010-07-19 00:00:00\"):\n",
    "    start_date_int = time.strptime(start_date, \"%Y-%m-%d %H:%M:%S\")\n",
    "    time_array = time.strptime(time_string, \"%Y-%m-%d %H:%M:%S\")\n",
    "    return int(time.mktime(time_array)) - int(time.mktime(start_date_int))\n",
    "\n",
    "\n",
    "def get_data_by_date(data_path, time_date=\"2014-01-01 00:00:00\"):\n",
    "    time_value = timestamp_transorform(time_date)\n",
    "    if not data_path.endswith(\".csv\"):\n",
    "        data_path += \"/{}.csv\"\n",
    "    schema = gen_stats_light_schema(data_path)\n",
    "    before_data = dict()\n",
    "    after_data = dict()\n",
    "    for table_obj in schema.tables:\n",
    "        table_name = table_obj.table_name\n",
    "        df_rows = read_table_csv(table_obj)\n",
    "        idx = len(df_rows)\n",
    "        for attribute in df_rows.columns:\n",
    "            if \"Date\" in attribute:\n",
    "                idx = np.searchsorted(df_rows[attribute].values, time_value)\n",
    "                break\n",
    "                \n",
    "        before_data[table_name] = df_rows[:idx] if idx > 0 else None\n",
    "        after_data[table_name] = df_rows[idx:] if idx < len(df_rows) else None\n",
    "    return before_data, after_data\n"
   ]
  },
  {
   "cell_type": "code",
   "execution_count": 4,
   "id": "18c66e1e",
   "metadata": {},
   "outputs": [],
   "source": [
    "before_data, after_data = get_data_by_date(data_folder)"
   ]
  },
  {
   "cell_type": "code",
   "execution_count": 5,
   "id": "7d630dfe",
   "metadata": {},
   "outputs": [
    {
     "name": "stdout",
     "output_type": "stream",
     "text": [
      "bucketizing equivalent key group: {'votes.PostId', 'tags.ExcerptPostId', 'postHistory.PostId', 'postLinks.RelatedPostId', 'posts.Id', 'comments.PostId', 'postLinks.PostId'}\n",
      "bucketizing equivalent key group: {'badges.UserId', 'posts.OwnerUserId', 'votes.UserId', 'postHistory.UserId', 'comments.UserId', 'users.Id'}\n"
     ]
    }
   ],
   "source": [
    "model_path = \"/home/ubuntu/data_CE/CE_scheme_models/update/\"\n",
    "data, null_values, key_attrs, table_buckets, equivalent_keys, schema, bin_size = process_stats_data(data_folder,\n",
    "                                        model_path, 200, \"sub_optimal\", False, data=before_data)\n"
   ]
  },
  {
   "cell_type": "code",
   "execution_count": 6,
   "id": "01919931",
   "metadata": {},
   "outputs": [
    {
     "name": "stdout",
     "output_type": "stream",
     "text": [
      "Discretizing table takes 0.10353326797485352 secs\n",
      "Structure learning took 12.671696662902832 secs.\n",
      "done, parameter learning took 0.24830865859985352 secs.\n"
     ]
    }
   ],
   "source": [
    "t_name = \"postHistory\"\n",
    "bn = Bayescard_BN(t_name, key_attrs[t_name], bin_size[t_name], null_values=null_values[t_name])\n",
    "bn.build_from_data(data[t_name])"
   ]
  },
  {
   "cell_type": "code",
   "execution_count": null,
   "id": "5fe482f1",
   "metadata": {},
   "outputs": [],
   "source": []
  },
  {
   "cell_type": "code",
   "execution_count": null,
   "id": "45b1c3fc",
   "metadata": {},
   "outputs": [],
   "source": [
    "model_path = \"/home/ubuntu/data_CE/CE_scheme_models/update/\"\n",
    "train_one_stats(\"stats\", data_folder, model_path, 200, \"sub_optimal\", True, actual_data=before_data)"
   ]
  },
  {
   "cell_type": "code",
   "execution_count": 7,
   "id": "0cb0bf8e",
   "metadata": {},
   "outputs": [],
   "source": [
    "with open(model_path + \"buckets.pkl\", \"rb\") as f:\n",
    "    buckets = pickle.load(f)\n",
    "with open(model_path + \"model_stats_sub_optimal_200.pkl\", \"rb\") as f:\n",
    "    FJmodel = pickle.load(f)"
   ]
  },
  {
   "cell_type": "code",
   "execution_count": null,
   "id": "e250a978",
   "metadata": {},
   "outputs": [],
   "source": [
    "query_file = \"/home/ubuntu/End-to-End-CardEst-Benchmark/workloads/stats_CEB/sub_plan_queries/stats_CEB_sub_queries.sql\"\n",
    "with open(query_file, \"r\") as f:\n",
    "    queries = f.readlines()\n"
   ]
  },
  {
   "cell_type": "code",
   "execution_count": null,
   "id": "25c67bcf",
   "metadata": {},
   "outputs": [],
   "source": [
    "qerror = []\n",
    "latency = []\n",
    "pred = []\n",
    "for i, query_str in enumerate(queries):\n",
    "    query = query_str.split(\"||\")[0][:-1]\n",
    "    print(\"========================\")\n",
    "    true_card = int(query_str.split(\"||\")[-1])\n",
    "    t = time.time()\n",
    "    res = FJmodel.get_cardinality_bound(query)\n",
    "    pred.append(res)\n",
    "    latency.append(time.time() - t)\n",
    "    qerror.append(res/true_card)\n",
    "    print(f\"estimating query {i}: predicted {res}, true_card {true_card}, qerror {res/true_card}, latency {time.time() - t}\")"
   ]
  },
  {
   "cell_type": "code",
   "execution_count": null,
   "id": "2e5b6744",
   "metadata": {},
   "outputs": [],
   "source": [
    "for i in [50, 90, 95, 99, 100]:\n",
    "    print(f\"q-error {i}% percentile is {np.percentile(qerror, i)}\")\n",
    "print(f\"total inference time: {np.sum(latency)}\")"
   ]
  },
  {
   "cell_type": "code",
   "execution_count": 8,
   "id": "2c3b6291",
   "metadata": {},
   "outputs": [
    {
     "name": "stdout",
     "output_type": "stream",
     "text": [
      "tags does not have data to update\n",
      "updating equivalent key group: {'votes.PostId', 'tags.ExcerptPostId', 'postHistory.PostId', 'postLinks.RelatedPostId', 'posts.Id', 'comments.PostId', 'postLinks.PostId'}\n",
      "tags.ExcerptPostId\n",
      "updating equivalent key group: {'badges.UserId', 'posts.OwnerUserId', 'votes.UserId', 'postHistory.UserId', 'comments.UserId', 'users.Id'}\n"
     ]
    }
   ],
   "source": [
    "table_buckets = FJmodel.table_buckets\n",
    "null_values = FJmodel.null_value\n",
    "data, table_buckets, null_values = update_stats_data(data_folder, model_path, buckets, table_buckets,\n",
    "                                                     null_values, False, after_data)"
   ]
  },
  {
   "cell_type": "code",
   "execution_count": 9,
   "id": "a3086cca",
   "metadata": {},
   "outputs": [],
   "source": [
    "def test_trained_BN_on_stats(bn, t_name):\n",
    "    queries = {\n",
    "        \"posts\": \"SELECT COUNT(*) FROM posts as p WHERE posts.CommentCount<=18 AND posts.CreationDate>='2010-07-23 07:27:31'::timestamp AND posts.CreationDate<='2014-09-09 01:43:00'::timestamp\",\n",
    "        \"comments\": \"SELECT COUNT(*) FROM comments as c WHERE comments.CreationDate>='2010-08-05 00:36:02'::timestamp AND comments.CreationDate<='2014-09-08 16:50:49'::timestamp\",\n",
    "        \"postHistory\": \"SELECT COUNT(*) FROM postHistory as ph WHERE postHistory.PostHistoryTypeId=1 AND postHistory.CreationDate>='2010-09-14 11:59:07'::timestamp\",\n",
    "        \"votes\": \"SELECT COUNT(*) FROM votes as v WHERE votes.VoteTypeId=2 AND votes.CreationDate<='2014-09-10 00:00:00'::timestamp\",\n",
    "        \"postLinks\": \"SELECT COUNT(*) FROM postLinks as pl WHERE postLinks.LinkTypeId=1 AND postLinks.CreationDate>='2011-09-03 21:00:10'::timestamp AND postLinks.CreationDate<='2014-07-30 21:29:52'::timestamp\",\n",
    "        \"users\": \"SELECT COUNT(*) FROM users as u WHERE users.DownVotes>=0 AND users.DownVotes<=0 AND users.UpVotes>=0 AND users.UpVotes<=31 AND users.CreationDate<='2014-08-06 20:38:52'::timestamp\",\n",
    "        \"badges\": \"SELECT COUNT(*) FROM badges as b WHERE badges.Date>='2010-09-26 12:17:14'::timestamp\",\n",
    "        \"tags\": \"SELECT COUNT(*) FROM tags\"\n",
    "    }\n",
    "\n",
    "    true_cards = {\n",
    "        \"posts\": 90764,\n",
    "        \"comments\": 172156,\n",
    "        \"postHistory\": 42308,\n",
    "        \"votes\": 261476,\n",
    "        \"postLinks\": 8776,\n",
    "        \"users\": 37062,\n",
    "        \"badges\": 77704,\n",
    "        \"tags\": 1032\n",
    "    }\n",
    "\n",
    "    bn.init_inference_method()\n",
    "    bn.infer_algo = \"exact-jit\"\n",
    "    query = parse_query_single_table(queries[t_name], bn)\n",
    "    pred = bn.query(query)\n",
    "    print(pred)\n",
    "    assert min(pred, true_cards[t_name]) / max(pred, true_cards[t_name]) <= 1.5, f\"Qerror too large, we have predition\" \\\n",
    "                                                                        f\"{pred} for true card {true_cards[t_name]}\"\n",
    "\n",
    "    query = parse_query_single_table(queries[t_name], bn)\n",
    "    _, id_probs = bn.query_id_prob(query, bn.id_attributes)\n",
    "    print(np.sum(id_probs))\n",
    "    if t_name not in ['votes', 'tags']:\n",
    "        assert min(pred, np.sum(id_probs)) / max(pred, np.sum(id_probs)) <= 1.5, \"query_id_prob is incorrect\""
   ]
  },
  {
   "cell_type": "code",
   "execution_count": 10,
   "id": "eed45d83",
   "metadata": {},
   "outputs": [
    {
     "name": "stdout",
     "output_type": "stream",
     "text": [
      "88497\n",
      "None\n",
      "===========================================\n",
      "postHistory.CreationDate continuous\n",
      "{0: Interval(-45913128.001, 806892.3, closed='right'), 1: Interval(806892.3, 2224659.45, closed='right'), 2: Interval(2224659.45, 4448732.5, closed='right'), 3: Interval(4448732.5, 6398143.0, closed='right'), 4: Interval(6398143.0, 8332076.5, closed='right'), 5: Interval(8332076.5, 10505734.6, closed='right'), 6: Interval(10505734.6, 12502397.475, closed='right'), 7: Interval(12502397.475, 15210418.0, closed='right'), 8: Interval(15210418.0, 17234072.425, closed='right'), 9: Interval(17234072.425, 18875118.5, closed='right'), 10: Interval(18875118.5, 20220825.85, closed='right'), 11: Interval(20220825.85, 21495720.0, closed='right'), 12: Interval(21495720.0, 22932501.675, closed='right'), 13: Interval(22932501.675, 24359971.65, closed='right'), 14: Interval(24359971.65, 25554386.0, closed='right'), 15: Interval(25554386.0, 26935924.8, closed='right'), 16: Interval(26935924.8, 28476299.825, closed='right'), 17: Interval(28476299.825, 29887211.0, closed='right'), 18: Interval(29887211.0, 31178260.0, closed='right'), 19: Interval(31178260.0, 32530572.5, closed='right'), 20: Interval(32530572.5, 33908317.975, closed='right'), 21: Interval(33908317.975, 35057069.05, closed='right'), 22: Interval(35057069.05, 36447164.5, closed='right'), 23: Interval(36447164.5, 37629786.8, closed='right'), 24: Interval(37629786.8, 38589434.125, closed='right'), 25: Interval(38589434.125, 39646867.45, closed='right'), 26: Interval(39646867.45, 41007758.0, closed='right'), 27: Interval(41007758.0, 42129198.0, closed='right'), 28: Interval(42129198.0, 43233916.0, closed='right'), 29: Interval(43233916.0, 44427193.75, closed='right'), 30: Interval(44427193.75, 46001974.3, closed='right'), 31: Interval(46001974.3, 47110008.0, closed='right'), 32: Interval(47110008.0, 48134433.25, closed='right'), 33: Interval(48134433.25, 49199449.0, closed='right'), 34: Interval(49199449.0, 49940151.0, closed='right'), 35: Interval(49940151.0, 50862570.4, closed='right'), 36: Interval(50862570.4, 51833299.125, closed='right'), 37: Interval(51833299.125, 52855288.65, closed='right'), 38: Interval(52855288.65, 53787365.0, closed='right'), 39: Interval(53787365.0, 54674853.0, closed='right'), 40: Interval(54674853.0, 55689332.45, closed='right'), 41: Interval(55689332.45, 56571572.45, closed='right'), 42: Interval(56571572.45, 57302941.275, closed='right'), 43: Interval(57302941.275, 58190685.0, closed='right'), 44: Interval(58190685.0, 59005433.0, closed='right'), 45: Interval(59005433.0, 59918563.7, closed='right'), 46: Interval(59918563.7, 60706591.9, closed='right'), 47: Interval(60706591.9, 61504401.2, closed='right'), 48: Interval(61504401.2, 62397398.875, closed='right'), 49: Interval(62397398.875, 63139607.0, closed='right'), 50: Interval(63139607.0, 63864788.0, closed='right'), 51: Interval(63864788.0, 64759265.0, closed='right'), 52: Interval(64759265.0, 65494289.0, closed='right'), 53: Interval(65494289.0, 66176763.05, closed='right'), 54: Interval(66176763.05, 66975679.0, closed='right'), 55: Interval(66975679.0, 67857558.0, closed='right'), 56: Interval(67857558.0, 68685471.0, closed='right'), 57: Interval(68685471.0, 69578294.95, closed='right'), 58: Interval(69578294.95, 70287975.0, closed='right'), 59: Interval(70287975.0, 71054398.0, closed='right'), 60: Interval(71054398.0, 71862265.0, closed='right'), 61: Interval(71862265.0, 72607841.6, closed='right'), 62: Interval(72607841.6, 73347999.0, closed='right'), 63: Interval(73347999.0, 74107353.4, closed='right'), 64: Interval(74107353.4, 74885362.25, closed='right'), 65: Interval(74885362.25, 75555802.9, closed='right'), 66: Interval(75555802.9, 76277744.625, closed='right'), 67: Interval(76277744.625, 77356816.0, closed='right'), 68: Interval(77356816.0, 78265207.0, closed='right'), 69: Interval(78265207.0, 78988321.0, closed='right'), 70: Interval(78988321.0, 79865261.3, closed='right'), 71: Interval(79865261.3, 80587446.0, closed='right'), 72: Interval(80587446.0, 81371933.1, closed='right'), 73: Interval(81371933.1, 82119167.3, closed='right'), 74: Interval(82119167.3, 83008837.625, closed='right'), 75: Interval(83008837.625, 83691240.0, closed='right'), 76: Interval(83691240.0, 84289370.95, closed='right'), 77: Interval(84289370.95, 84978480.0, closed='right'), 78: Interval(84978480.0, 85677765.95, closed='right'), 79: Interval(85677765.95, 86309739.0, closed='right'), 80: Interval(86309739.0, 86989813.0, closed='right'), 81: Interval(86989813.0, 87578904.0, closed='right'), 82: Interval(87578904.0, 88250598.95, closed='right'), 83: Interval(88250598.95, 88921465.0, closed='right'), 84: Interval(88921465.0, 89469169.0, closed='right'), 85: Interval(89469169.0, 90090460.7, closed='right'), 86: Interval(90090460.7, 90709768.0, closed='right'), 87: Interval(90709768.0, 91300278.0, closed='right'), 88: Interval(91300278.0, 91887693.45, closed='right'), 89: Interval(91887693.45, 92483860.0, closed='right'), 90: Interval(92483860.0, 93049121.45, closed='right'), 91: Interval(93049121.45, 93531836.0, closed='right'), 92: Interval(93531836.0, 94041919.75, closed='right'), 93: Interval(94041919.75, 94558467.0, closed='right'), 94: Interval(94558467.0, 94991489.0, closed='right'), 95: Interval(94991489.0, 95373575.8, closed='right'), 96: Interval(95373575.8, 95884411.0, closed='right'), 97: Interval(95884411.0, 96477560.25, closed='right'), 98: Interval(96477560.25, 97015479.575, closed='right'), 99: Interval(97015479.575, 97679292.5, closed='right'), 100: Interval(97679292.5, 98223036.375, closed='right'), 101: Interval(98223036.375, 98750344.0, closed='right'), 102: Interval(98750344.0, 99345899.0, closed='right'), 103: Interval(99345899.0, 99949613.2, closed='right'), 104: Interval(99949613.2, 100519047.25, closed='right'), 105: Interval(100519047.25, 101055155.3, closed='right'), 106: Interval(101055155.3, 101590360.275, closed='right'), 107: Interval(101590360.275, 102154209.5, closed='right'), 108: Interval(102154209.5, 102715146.45, closed='right'), 109: Interval(102715146.45, 103301351.75, closed='right'), 110: Interval(103301351.75, 103936705.025, closed='right'), 111: Interval(103936705.025, 104446921.0, closed='right'), 112: Interval(104446921.0, 104956666.0, closed='right'), 113: Interval(104956666.0, 105496295.0, closed='right'), 114: Interval(105496295.0, 106006685.625, closed='right'), 115: Interval(106006685.625, 106542583.3, closed='right'), 116: Interval(106542583.3, 107043007.35, closed='right'), 117: Interval(107043007.35, 107528695.75, closed='right'), 118: Interval(107528695.75, 108164372.0, closed='right'), 119: Interval(108164372.0, 109036030.0, closed='right')}\n",
      "{122: Interval(109036030.0, 131165653.0, closed='right')}\n",
      "{0: Interval(-45913128.001, 806892.3, closed='right'), 1: Interval(806892.3, 2224659.45, closed='right'), 2: Interval(2224659.45, 4448732.5, closed='right'), 3: Interval(4448732.5, 6398143.0, closed='right'), 4: Interval(6398143.0, 8332076.5, closed='right'), 5: Interval(8332076.5, 10505734.6, closed='right'), 6: Interval(10505734.6, 12502397.475, closed='right'), 7: Interval(12502397.475, 15210418.0, closed='right'), 8: Interval(15210418.0, 17234072.425, closed='right'), 9: Interval(17234072.425, 18875118.5, closed='right'), 10: Interval(18875118.5, 20220825.85, closed='right'), 11: Interval(20220825.85, 21495720.0, closed='right'), 12: Interval(21495720.0, 22932501.675, closed='right'), 13: Interval(22932501.675, 24359971.65, closed='right'), 14: Interval(24359971.65, 25554386.0, closed='right'), 15: Interval(25554386.0, 26935924.8, closed='right'), 16: Interval(26935924.8, 28476299.825, closed='right'), 17: Interval(28476299.825, 29887211.0, closed='right'), 18: Interval(29887211.0, 31178260.0, closed='right'), 19: Interval(31178260.0, 32530572.5, closed='right'), 20: Interval(32530572.5, 33908317.975, closed='right'), 21: Interval(33908317.975, 35057069.05, closed='right'), 22: Interval(35057069.05, 36447164.5, closed='right'), 23: Interval(36447164.5, 37629786.8, closed='right'), 24: Interval(37629786.8, 38589434.125, closed='right'), 25: Interval(38589434.125, 39646867.45, closed='right'), 26: Interval(39646867.45, 41007758.0, closed='right'), 27: Interval(41007758.0, 42129198.0, closed='right'), 28: Interval(42129198.0, 43233916.0, closed='right'), 29: Interval(43233916.0, 44427193.75, closed='right'), 30: Interval(44427193.75, 46001974.3, closed='right'), 31: Interval(46001974.3, 47110008.0, closed='right'), 32: Interval(47110008.0, 48134433.25, closed='right'), 33: Interval(48134433.25, 49199449.0, closed='right'), 34: Interval(49199449.0, 49940151.0, closed='right'), 35: Interval(49940151.0, 50862570.4, closed='right'), 36: Interval(50862570.4, 51833299.125, closed='right'), 37: Interval(51833299.125, 52855288.65, closed='right'), 38: Interval(52855288.65, 53787365.0, closed='right'), 39: Interval(53787365.0, 54674853.0, closed='right'), 40: Interval(54674853.0, 55689332.45, closed='right'), 41: Interval(55689332.45, 56571572.45, closed='right'), 42: Interval(56571572.45, 57302941.275, closed='right'), 43: Interval(57302941.275, 58190685.0, closed='right'), 44: Interval(58190685.0, 59005433.0, closed='right'), 45: Interval(59005433.0, 59918563.7, closed='right'), 46: Interval(59918563.7, 60706591.9, closed='right'), 47: Interval(60706591.9, 61504401.2, closed='right'), 48: Interval(61504401.2, 62397398.875, closed='right'), 49: Interval(62397398.875, 63139607.0, closed='right'), 50: Interval(63139607.0, 63864788.0, closed='right'), 51: Interval(63864788.0, 64759265.0, closed='right'), 52: Interval(64759265.0, 65494289.0, closed='right'), 53: Interval(65494289.0, 66176763.05, closed='right'), 54: Interval(66176763.05, 66975679.0, closed='right'), 55: Interval(66975679.0, 67857558.0, closed='right'), 56: Interval(67857558.0, 68685471.0, closed='right'), 57: Interval(68685471.0, 69578294.95, closed='right'), 58: Interval(69578294.95, 70287975.0, closed='right'), 59: Interval(70287975.0, 71054398.0, closed='right'), 60: Interval(71054398.0, 71862265.0, closed='right'), 61: Interval(71862265.0, 72607841.6, closed='right'), 62: Interval(72607841.6, 73347999.0, closed='right'), 63: Interval(73347999.0, 74107353.4, closed='right'), 64: Interval(74107353.4, 74885362.25, closed='right'), 65: Interval(74885362.25, 75555802.9, closed='right'), 66: Interval(75555802.9, 76277744.625, closed='right'), 67: Interval(76277744.625, 77356816.0, closed='right'), 68: Interval(77356816.0, 78265207.0, closed='right'), 69: Interval(78265207.0, 78988321.0, closed='right'), 70: Interval(78988321.0, 79865261.3, closed='right'), 71: Interval(79865261.3, 80587446.0, closed='right'), 72: Interval(80587446.0, 81371933.1, closed='right'), 73: Interval(81371933.1, 82119167.3, closed='right'), 74: Interval(82119167.3, 83008837.625, closed='right'), 75: Interval(83008837.625, 83691240.0, closed='right'), 76: Interval(83691240.0, 84289370.95, closed='right'), 77: Interval(84289370.95, 84978480.0, closed='right'), 78: Interval(84978480.0, 85677765.95, closed='right'), 79: Interval(85677765.95, 86309739.0, closed='right'), 80: Interval(86309739.0, 86989813.0, closed='right'), 81: Interval(86989813.0, 87578904.0, closed='right'), 82: Interval(87578904.0, 88250598.95, closed='right'), 83: Interval(88250598.95, 88921465.0, closed='right'), 84: Interval(88921465.0, 89469169.0, closed='right'), 85: Interval(89469169.0, 90090460.7, closed='right'), 86: Interval(90090460.7, 90709768.0, closed='right'), 87: Interval(90709768.0, 91300278.0, closed='right'), 88: Interval(91300278.0, 91887693.45, closed='right'), 89: Interval(91887693.45, 92483860.0, closed='right'), 90: Interval(92483860.0, 93049121.45, closed='right'), 91: Interval(93049121.45, 93531836.0, closed='right'), 92: Interval(93531836.0, 94041919.75, closed='right'), 93: Interval(94041919.75, 94558467.0, closed='right'), 94: Interval(94558467.0, 94991489.0, closed='right'), 95: Interval(94991489.0, 95373575.8, closed='right'), 96: Interval(95373575.8, 95884411.0, closed='right'), 97: Interval(95884411.0, 96477560.25, closed='right'), 98: Interval(96477560.25, 97015479.575, closed='right'), 99: Interval(97015479.575, 97679292.5, closed='right'), 100: Interval(97679292.5, 98223036.375, closed='right'), 101: Interval(98223036.375, 98750344.0, closed='right'), 102: Interval(98750344.0, 99345899.0, closed='right'), 103: Interval(99345899.0, 99949613.2, closed='right'), 104: Interval(99949613.2, 100519047.25, closed='right'), 105: Interval(100519047.25, 101055155.3, closed='right'), 106: Interval(101055155.3, 101590360.275, closed='right'), 107: Interval(101590360.275, 102154209.5, closed='right'), 108: Interval(102154209.5, 102715146.45, closed='right'), 109: Interval(102715146.45, 103301351.75, closed='right'), 110: Interval(103301351.75, 103936705.025, closed='right'), 111: Interval(103936705.025, 104446921.0, closed='right'), 112: Interval(104446921.0, 104956666.0, closed='right'), 113: Interval(104956666.0, 105496295.0, closed='right'), 114: Interval(105496295.0, 106006685.625, closed='right'), 115: Interval(106006685.625, 106542583.3, closed='right'), 116: Interval(106542583.3, 107043007.35, closed='right'), 117: Interval(107043007.35, 107528695.75, closed='right'), 118: Interval(107528695.75, 108164372.0, closed='right'), 119: Interval(108164372.0, 109036030.0, closed='right'), 122: Interval(109036030.0, 131165653.0, closed='right')}\n",
      "Discretizing table took 0.12753534317016602 secs.\n"
     ]
    },
    {
     "name": "stderr",
     "output_type": "stream",
     "text": [
      "WARNING:root:Replacing existing CPD for postHistory.CreationDate\n",
      "WARNING:root:Replacing existing CPD for postHistory.PostHistoryTypeId\n",
      "WARNING:root:Replacing existing CPD for postHistory.PostId\n",
      "WARNING:root:Replacing existing CPD for postHistory.UserId\n"
     ]
    },
    {
     "name": "stdout",
     "output_type": "stream",
     "text": [
      "done, incremental parameter updating took 0.37574028968811035 secs.\n"
     ]
    },
    {
     "ename": "KeyError",
     "evalue": "120",
     "output_type": "error",
     "traceback": [
      "\u001b[0;31m---------------------------------------------------------------------------\u001b[0m",
      "\u001b[0;31mKeyError\u001b[0m                                  Traceback (most recent call last)",
      "\u001b[0;32m<ipython-input-10-fa0ed22a1bd3>\u001b[0m in \u001b[0;36m<module>\u001b[0;34m\u001b[0m\n\u001b[1;32m      4\u001b[0m \u001b[0mprint\u001b[0m\u001b[0;34m(\u001b[0m\u001b[0mlen\u001b[0m\u001b[0;34m(\u001b[0m\u001b[0mdata\u001b[0m\u001b[0;34m[\u001b[0m\u001b[0mt_name\u001b[0m\u001b[0;34m]\u001b[0m\u001b[0;34m)\u001b[0m\u001b[0;34m)\u001b[0m\u001b[0;34m\u001b[0m\u001b[0;34m\u001b[0m\u001b[0m\n\u001b[1;32m      5\u001b[0m \u001b[0mbn\u001b[0m\u001b[0;34m.\u001b[0m\u001b[0mupdate_from_data\u001b[0m\u001b[0;34m(\u001b[0m\u001b[0mdata\u001b[0m\u001b[0;34m[\u001b[0m\u001b[0mt_name\u001b[0m\u001b[0;34m]\u001b[0m\u001b[0;34m)\u001b[0m\u001b[0;34m\u001b[0m\u001b[0;34m\u001b[0m\u001b[0m\n\u001b[0;32m----> 6\u001b[0;31m \u001b[0mtest_trained_BN_on_stats\u001b[0m\u001b[0;34m(\u001b[0m\u001b[0mbn\u001b[0m\u001b[0;34m,\u001b[0m \u001b[0mt_name\u001b[0m\u001b[0;34m)\u001b[0m\u001b[0;34m\u001b[0m\u001b[0;34m\u001b[0m\u001b[0m\n\u001b[0m",
      "\u001b[0;32m<ipython-input-9-a35382d54aae>\u001b[0m in \u001b[0;36mtest_trained_BN_on_stats\u001b[0;34m(bn, t_name)\u001b[0m\n\u001b[1;32m     25\u001b[0m     \u001b[0mbn\u001b[0m\u001b[0;34m.\u001b[0m\u001b[0minfer_algo\u001b[0m \u001b[0;34m=\u001b[0m \u001b[0;34m\"exact-jit\"\u001b[0m\u001b[0;34m\u001b[0m\u001b[0;34m\u001b[0m\u001b[0m\n\u001b[1;32m     26\u001b[0m     \u001b[0mquery\u001b[0m \u001b[0;34m=\u001b[0m \u001b[0mparse_query_single_table\u001b[0m\u001b[0;34m(\u001b[0m\u001b[0mqueries\u001b[0m\u001b[0;34m[\u001b[0m\u001b[0mt_name\u001b[0m\u001b[0;34m]\u001b[0m\u001b[0;34m,\u001b[0m \u001b[0mbn\u001b[0m\u001b[0;34m)\u001b[0m\u001b[0;34m\u001b[0m\u001b[0;34m\u001b[0m\u001b[0m\n\u001b[0;32m---> 27\u001b[0;31m     \u001b[0mpred\u001b[0m \u001b[0;34m=\u001b[0m \u001b[0mbn\u001b[0m\u001b[0;34m.\u001b[0m\u001b[0mquery\u001b[0m\u001b[0;34m(\u001b[0m\u001b[0mquery\u001b[0m\u001b[0;34m)\u001b[0m\u001b[0;34m\u001b[0m\u001b[0;34m\u001b[0m\u001b[0m\n\u001b[0m\u001b[1;32m     28\u001b[0m     \u001b[0mprint\u001b[0m\u001b[0;34m(\u001b[0m\u001b[0mpred\u001b[0m\u001b[0;34m)\u001b[0m\u001b[0;34m\u001b[0m\u001b[0;34m\u001b[0m\u001b[0m\n\u001b[1;32m     29\u001b[0m     \u001b[0;32massert\u001b[0m \u001b[0mmin\u001b[0m\u001b[0;34m(\u001b[0m\u001b[0mpred\u001b[0m\u001b[0;34m,\u001b[0m \u001b[0mtrue_cards\u001b[0m\u001b[0;34m[\u001b[0m\u001b[0mt_name\u001b[0m\u001b[0;34m]\u001b[0m\u001b[0;34m)\u001b[0m \u001b[0;34m/\u001b[0m \u001b[0mmax\u001b[0m\u001b[0;34m(\u001b[0m\u001b[0mpred\u001b[0m\u001b[0;34m,\u001b[0m \u001b[0mtrue_cards\u001b[0m\u001b[0;34m[\u001b[0m\u001b[0mt_name\u001b[0m\u001b[0;34m]\u001b[0m\u001b[0;34m)\u001b[0m \u001b[0;34m<=\u001b[0m \u001b[0;36m1.5\u001b[0m\u001b[0;34m,\u001b[0m \u001b[0;34mf\"Qerror too large, we have predition\"\u001b[0m\u001b[0;31m \u001b[0m\u001b[0;31m\\\u001b[0m\u001b[0;34m\u001b[0m\u001b[0;34m\u001b[0m\u001b[0m\n",
      "\u001b[0;32m~/CE_scheme/BayesCard/Models/Bayescard_BN.py\u001b[0m in \u001b[0;36mquery\u001b[0;34m(self, query, num_samples, n_distinct, coverage, return_prob, sample_size, hard_sample)\u001b[0m\n\u001b[1;32m    489\u001b[0m         \u001b[0mnrows\u001b[0m \u001b[0;34m=\u001b[0m \u001b[0mself\u001b[0m\u001b[0;34m.\u001b[0m\u001b[0mnrows\u001b[0m\u001b[0;34m\u001b[0m\u001b[0;34m\u001b[0m\u001b[0m\n\u001b[1;32m    490\u001b[0m         \u001b[0;32mif\u001b[0m \u001b[0mn_distinct\u001b[0m \u001b[0;32mis\u001b[0m \u001b[0;32mNone\u001b[0m\u001b[0;34m:\u001b[0m\u001b[0;34m\u001b[0m\u001b[0;34m\u001b[0m\u001b[0m\n\u001b[0;32m--> 491\u001b[0;31m             \u001b[0mquery\u001b[0m\u001b[0;34m,\u001b[0m \u001b[0mn_distinct\u001b[0m \u001b[0;34m=\u001b[0m \u001b[0mself\u001b[0m\u001b[0;34m.\u001b[0m\u001b[0mquery_decoding\u001b[0m\u001b[0;34m(\u001b[0m\u001b[0mquery\u001b[0m\u001b[0;34m,\u001b[0m \u001b[0mcoverage\u001b[0m\u001b[0;34m)\u001b[0m\u001b[0;34m\u001b[0m\u001b[0;34m\u001b[0m\u001b[0m\n\u001b[0m\u001b[1;32m    492\u001b[0m         \u001b[0;31m#print(f\"decoded query is {query}\")\u001b[0m\u001b[0;34m\u001b[0m\u001b[0;34m\u001b[0m\u001b[0;34m\u001b[0m\u001b[0m\n\u001b[1;32m    493\u001b[0m         \u001b[0;32mif\u001b[0m \u001b[0mquery\u001b[0m \u001b[0;32mis\u001b[0m \u001b[0;32mNone\u001b[0m\u001b[0;34m:\u001b[0m\u001b[0;34m\u001b[0m\u001b[0;34m\u001b[0m\u001b[0m\n",
      "\u001b[0;32m~/CE_scheme/BayesCard/Models/Bayescard_BN.py\u001b[0m in \u001b[0;36mquery_decoding\u001b[0;34m(self, query, coverage, epsilon)\u001b[0m\n\u001b[1;32m    345\u001b[0m                     \u001b[0;32mif\u001b[0m \u001b[0ml\u001b[0m \u001b[0;34m>\u001b[0m \u001b[0mr\u001b[0m\u001b[0;34m:\u001b[0m\u001b[0;34m\u001b[0m\u001b[0;34m\u001b[0m\u001b[0m\n\u001b[1;32m    346\u001b[0m                         \u001b[0;32mreturn\u001b[0m \u001b[0;32mNone\u001b[0m\u001b[0;34m,\u001b[0m \u001b[0;32mNone\u001b[0m\u001b[0;34m\u001b[0m\u001b[0;34m\u001b[0m\u001b[0m\n\u001b[0;32m--> 347\u001b[0;31m                     \u001b[0mquery\u001b[0m\u001b[0;34m[\u001b[0m\u001b[0mattr\u001b[0m\u001b[0;34m]\u001b[0m\u001b[0;34m,\u001b[0m \u001b[0mn_distinct\u001b[0m\u001b[0;34m[\u001b[0m\u001b[0mattr\u001b[0m\u001b[0;34m]\u001b[0m \u001b[0;34m=\u001b[0m \u001b[0mself\u001b[0m\u001b[0;34m.\u001b[0m\u001b[0mcontinuous_range_map\u001b[0m\u001b[0;34m(\u001b[0m\u001b[0mattr\u001b[0m\u001b[0;34m,\u001b[0m \u001b[0;34m(\u001b[0m\u001b[0ml\u001b[0m\u001b[0;34m,\u001b[0m \u001b[0mr\u001b[0m\u001b[0;34m)\u001b[0m\u001b[0;34m)\u001b[0m\u001b[0;34m\u001b[0m\u001b[0;34m\u001b[0m\u001b[0m\n\u001b[0m\u001b[1;32m    348\u001b[0m                     \u001b[0;32mif\u001b[0m \u001b[0mquery\u001b[0m\u001b[0;34m[\u001b[0m\u001b[0mattr\u001b[0m\u001b[0;34m]\u001b[0m \u001b[0;32mis\u001b[0m \u001b[0;32mNone\u001b[0m\u001b[0;34m:\u001b[0m\u001b[0;34m\u001b[0m\u001b[0;34m\u001b[0m\u001b[0m\n\u001b[1;32m    349\u001b[0m                         \u001b[0;32mreturn\u001b[0m \u001b[0;32mNone\u001b[0m\u001b[0;34m,\u001b[0m \u001b[0;32mNone\u001b[0m\u001b[0;34m\u001b[0m\u001b[0;34m\u001b[0m\u001b[0m\n",
      "\u001b[0;32m~/CE_scheme/BayesCard/Models/Bayescard_BN.py\u001b[0m in \u001b[0;36mcontinuous_range_map\u001b[0;34m(self, col, range)\u001b[0m\n\u001b[1;32m    295\u001b[0m                     \u001b[0mindicator_left\u001b[0m \u001b[0;34m=\u001b[0m \u001b[0;32mFalse\u001b[0m\u001b[0;34m\u001b[0m\u001b[0;34m\u001b[0m\u001b[0m\n\u001b[1;32m    296\u001b[0m             \u001b[0;32mif\u001b[0m \u001b[0mindicator_right\u001b[0m\u001b[0;34m:\u001b[0m\u001b[0;34m\u001b[0m\u001b[0;34m\u001b[0m\u001b[0m\n\u001b[0;32m--> 297\u001b[0;31m                 \u001b[0mcover\u001b[0m \u001b[0;34m=\u001b[0m \u001b[0mcal_coverage\u001b[0m\u001b[0;34m(\u001b[0m\u001b[0mleft\u001b[0m\u001b[0;34m,\u001b[0m \u001b[0mright\u001b[0m\u001b[0;34m,\u001b[0m \u001b[0mself\u001b[0m\u001b[0;34m.\u001b[0m\u001b[0mmapping\u001b[0m\u001b[0;34m[\u001b[0m\u001b[0mcol\u001b[0m\u001b[0;34m]\u001b[0m\u001b[0;34m[\u001b[0m\u001b[0mstart_point_right\u001b[0m\u001b[0;34m]\u001b[0m\u001b[0;34m)\u001b[0m\u001b[0;34m\u001b[0m\u001b[0;34m\u001b[0m\u001b[0m\n\u001b[0m\u001b[1;32m    298\u001b[0m                 \u001b[0;32mif\u001b[0m \u001b[0mcover\u001b[0m \u001b[0;34m!=\u001b[0m \u001b[0;36m0\u001b[0m\u001b[0;34m:\u001b[0m\u001b[0;34m\u001b[0m\u001b[0;34m\u001b[0m\u001b[0m\n\u001b[1;32m    299\u001b[0m                     \u001b[0mquery\u001b[0m\u001b[0;34m.\u001b[0m\u001b[0mappend\u001b[0m\u001b[0;34m(\u001b[0m\u001b[0mstart_point_right\u001b[0m\u001b[0;34m)\u001b[0m\u001b[0;34m\u001b[0m\u001b[0;34m\u001b[0m\u001b[0m\n",
      "\u001b[0;31mKeyError\u001b[0m: 120"
     ]
    }
   ],
   "source": [
    "t_name = \"postHistory\"\n",
    "bn = FJmodel.bns[t_name]\n",
    "bn.null_values = null_values[t_name]\n",
    "print(len(data[t_name]))\n",
    "bn.update_from_data(data[t_name])\n",
    "test_trained_BN_on_stats(bn, t_name)"
   ]
  },
  {
   "cell_type": "code",
   "execution_count": null,
   "id": "229cc652",
   "metadata": {},
   "outputs": [],
   "source": [
    "pred"
   ]
  },
  {
   "cell_type": "code",
   "execution_count": null,
   "id": "ee0cc589",
   "metadata": {},
   "outputs": [],
   "source": [
    "for table in FJmodel.schema.tables:\n",
    "    t_name = table.table_name\n",
    "    print(t_name)\n",
    "    if t_name in data and data[t_name] is not None:\n",
    "        bn = FJmodel.bns[t_name]\n",
    "        bn.null_values = null_values[t_name]\n",
    "        bn.update_from_data(data[t_name])\n",
    "        test_trained_BN_on_stats(bn, t_name)"
   ]
  },
  {
   "cell_type": "code",
   "execution_count": null,
   "id": "3b10952f",
   "metadata": {},
   "outputs": [],
   "source": [
    "a = [1,2,2,3,]\n",
    "a.remove(1)\n",
    "a"
   ]
  },
  {
   "cell_type": "code",
   "execution_count": null,
   "id": "e68d4b31",
   "metadata": {},
   "outputs": [],
   "source": [
    "np.ones(1).astype(int)"
   ]
  },
  {
   "cell_type": "code",
   "execution_count": null,
   "id": "c28fd11d",
   "metadata": {},
   "outputs": [],
   "source": [
    "a = np.arange(10)\n",
    "a = a.delete(0)\n",
    "a"
   ]
  },
  {
   "cell_type": "code",
   "execution_count": null,
   "id": "52c8f584",
   "metadata": {},
   "outputs": [],
   "source": []
  }
 ],
 "metadata": {
  "kernelspec": {
   "display_name": "Python 3",
   "language": "python",
   "name": "python3"
  },
  "language_info": {
   "codemirror_mode": {
    "name": "ipython",
    "version": 3
   },
   "file_extension": ".py",
   "mimetype": "text/x-python",
   "name": "python",
   "nbconvert_exporter": "python",
   "pygments_lexer": "ipython3",
   "version": "3.7.11"
  }
 },
 "nbformat": 4,
 "nbformat_minor": 5
}
