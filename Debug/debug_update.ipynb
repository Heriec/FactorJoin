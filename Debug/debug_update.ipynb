{
 "cells": [
  {
   "cell_type": "code",
   "execution_count": 8,
   "id": "8594c810",
   "metadata": {},
   "outputs": [],
   "source": [
    "import numpy as np\n",
    "import pandas as pd\n",
    "import pickle\n",
    "from scipy import stats\n",
    "import time\n",
    "import sys\n",
    "sys.path.append(\"/home/ubuntu/CE_scheme\")\n",
    "from Schemas.stats.schema import gen_stats_light_schema\n",
    "from Evaluation.training import train_one_stats\n",
    "from Join_scheme.data_prepare import process_stats_data, update_stats_data"
   ]
  },
  {
   "cell_type": "code",
   "execution_count": 2,
   "id": "8d6454c4",
   "metadata": {},
   "outputs": [],
   "source": [
    "data_folder = '/home/ubuntu/End-to-End-CardEst-Benchmark/datasets/stats_simplified'"
   ]
  },
  {
   "cell_type": "code",
   "execution_count": 3,
   "id": "0a7de3e7",
   "metadata": {},
   "outputs": [],
   "source": [
    "def read_table_csv(table_obj, csv_seperator=',', stats=True):\n",
    "    \"\"\"\n",
    "    Reads csv from path, renames columns and drops unnecessary columns\n",
    "    \"\"\"\n",
    "    if stats:\n",
    "        df_rows = pd.read_csv(table_obj.csv_file_location)\n",
    "    else:\n",
    "        df_rows = pd.read_csv(table_obj.csv_file_location, header=None, escapechar='\\\\', encoding='utf-8',\n",
    "                              quotechar='\"',\n",
    "                              sep=csv_seperator)\n",
    "    df_rows.columns = [table_obj.table_name + '.' + attr for attr in table_obj.attributes]\n",
    "\n",
    "    for attribute in table_obj.irrelevant_attributes:\n",
    "        df_rows = df_rows.drop(table_obj.table_name + '.' + attribute, axis=1)\n",
    "\n",
    "    return df_rows.apply(pd.to_numeric, errors=\"ignore\")\n",
    "\n",
    "\n",
    "def timestamp_transorform(time_string, start_date=\"2010-07-19 00:00:00\"):\n",
    "    start_date_int = time.strptime(start_date, \"%Y-%m-%d %H:%M:%S\")\n",
    "    time_array = time.strptime(time_string, \"%Y-%m-%d %H:%M:%S\")\n",
    "    return int(time.mktime(time_array)) - int(time.mktime(start_date_int))\n",
    "\n",
    "\n",
    "def get_data_by_date(data_path, time_date=\"2014-01-01 00:00:00\"):\n",
    "    time_value = timestamp_transorform(time_date)\n",
    "    if not data_path.endswith(\".csv\"):\n",
    "        data_path += \"/{}.csv\"\n",
    "    schema = gen_stats_light_schema(data_path)\n",
    "    before_data = dict()\n",
    "    after_data = dict()\n",
    "    for table_obj in schema.tables:\n",
    "        table_name = table_obj.table_name\n",
    "        df_rows = read_table_csv(table_obj)\n",
    "        idx = len(df_rows)\n",
    "        for attribute in df_rows.columns:\n",
    "            if \"Date\" in attribute:\n",
    "                idx = np.searchsorted(df_rows[attribute].values, time_value)\n",
    "                break\n",
    "                \n",
    "        before_data[table_name] = df_rows[:idx] if idx > 0 else None\n",
    "        after_data[table_name] = df_rows[idx:] if idx < len(df_rows) else None\n",
    "    return before_data, after_data\n"
   ]
  },
  {
   "cell_type": "code",
   "execution_count": 4,
   "id": "18c66e1e",
   "metadata": {},
   "outputs": [],
   "source": [
    "before_data, after_data = get_data_by_date(data_folder)"
   ]
  },
  {
   "cell_type": "code",
   "execution_count": 6,
   "id": "45b1c3fc",
   "metadata": {},
   "outputs": [],
   "source": [
    "model_path = \"/home/ubuntu/data_CE/CE_scheme_models/update/\"\n",
    "train_one_stats(\"stats\", data_folder, model_path, 200, \"sub_optimal\", True, actual_data=before_data)"
   ]
  },
  {
   "cell_type": "code",
   "execution_count": 9,
   "id": "0cb0bf8e",
   "metadata": {},
   "outputs": [],
   "source": [
    "with open(model_path + \"buckets.pkl\", \"rb\") as f:\n",
    "    buckets = pickle.load(f)\n",
    "with open(model_path + \"model_stats_sub_optimal_200.pkl\", \"rb\") as f:\n",
    "    FJmodel = pickle.load(f)"
   ]
  },
  {
   "cell_type": "code",
   "execution_count": 10,
   "id": "2c3b6291",
   "metadata": {},
   "outputs": [
    {
     "ename": "AttributeError",
     "evalue": "'NoneType' object has no attribute 'columns'",
     "output_type": "error",
     "traceback": [
      "\u001b[0;31m---------------------------------------------------------------------------\u001b[0m",
      "\u001b[0;31mAttributeError\u001b[0m                            Traceback (most recent call last)",
      "\u001b[0;32m<ipython-input-10-91ed48a171fc>\u001b[0m in \u001b[0;36m<module>\u001b[0;34m\u001b[0m\n\u001b[1;32m      1\u001b[0m \u001b[0mtable_buckets\u001b[0m \u001b[0;34m=\u001b[0m \u001b[0mFJmodel\u001b[0m\u001b[0;34m.\u001b[0m\u001b[0mtable_buckets\u001b[0m\u001b[0;34m\u001b[0m\u001b[0;34m\u001b[0m\u001b[0m\n\u001b[1;32m      2\u001b[0m data, table_buckets, null_values = update_stats_data(data_folder, model_path, buckets, table_buckets,\n\u001b[0;32m----> 3\u001b[0;31m                                                      False, after_data)\n\u001b[0m",
      "\u001b[0;32m~/CE_scheme/Join_scheme/data_prepare.py\u001b[0m in \u001b[0;36mupdate_stats_data\u001b[0;34m(data_path, model_folder, buckets, table_buckets, save_bucket_bins, data)\u001b[0m\n\u001b[1;32m    356\u001b[0m         \u001b[0;32melse\u001b[0m\u001b[0;34m:\u001b[0m\u001b[0;34m\u001b[0m\u001b[0;34m\u001b[0m\u001b[0m\n\u001b[1;32m    357\u001b[0m             \u001b[0mdf_rows\u001b[0m \u001b[0;34m=\u001b[0m \u001b[0mread_table_csv\u001b[0m\u001b[0;34m(\u001b[0m\u001b[0mtable_obj\u001b[0m\u001b[0;34m,\u001b[0m \u001b[0mstats\u001b[0m\u001b[0;34m=\u001b[0m\u001b[0;32mTrue\u001b[0m\u001b[0;34m)\u001b[0m\u001b[0;34m\u001b[0m\u001b[0;34m\u001b[0m\u001b[0m\n\u001b[0;32m--> 358\u001b[0;31m         \u001b[0;32mfor\u001b[0m \u001b[0mattr\u001b[0m \u001b[0;32min\u001b[0m \u001b[0mdf_rows\u001b[0m\u001b[0;34m.\u001b[0m\u001b[0mcolumns\u001b[0m\u001b[0;34m:\u001b[0m\u001b[0;34m\u001b[0m\u001b[0;34m\u001b[0m\u001b[0m\n\u001b[0m\u001b[1;32m    359\u001b[0m             \u001b[0;32mif\u001b[0m \u001b[0mattr\u001b[0m \u001b[0;32min\u001b[0m \u001b[0mall_keys\u001b[0m\u001b[0;34m:\u001b[0m\u001b[0;34m\u001b[0m\u001b[0;34m\u001b[0m\u001b[0m\n\u001b[1;32m    360\u001b[0m                 \u001b[0mkey_data\u001b[0m\u001b[0;34m[\u001b[0m\u001b[0mattr\u001b[0m\u001b[0;34m]\u001b[0m \u001b[0;34m=\u001b[0m \u001b[0mdf_rows\u001b[0m\u001b[0;34m[\u001b[0m\u001b[0mattr\u001b[0m\u001b[0;34m]\u001b[0m\u001b[0;34m.\u001b[0m\u001b[0mvalues\u001b[0m\u001b[0;34m\u001b[0m\u001b[0;34m\u001b[0m\u001b[0m\n",
      "\u001b[0;31mAttributeError\u001b[0m: 'NoneType' object has no attribute 'columns'"
     ]
    }
   ],
   "source": [
    "table_buckets = FJmodel.table_buckets\n",
    "data, table_buckets, null_values = update_stats_data(data_folder, model_path, buckets, table_buckets,\n",
    "                                                     False, after_data)"
   ]
  },
  {
   "cell_type": "code",
   "execution_count": 13,
   "id": "ee0cc589",
   "metadata": {},
   "outputs": [],
   "source": [
    "after_data[\"tags\"]"
   ]
  },
  {
   "cell_type": "code",
   "execution_count": null,
   "id": "ef657e25",
   "metadata": {},
   "outputs": [],
   "source": []
  }
 ],
 "metadata": {
  "kernelspec": {
   "display_name": "Python 3",
   "language": "python",
   "name": "python3"
  },
  "language_info": {
   "codemirror_mode": {
    "name": "ipython",
    "version": 3
   },
   "file_extension": ".py",
   "mimetype": "text/x-python",
   "name": "python",
   "nbconvert_exporter": "python",
   "pygments_lexer": "ipython3",
   "version": "3.7.11"
  }
 },
 "nbformat": 4,
 "nbformat_minor": 5
}
